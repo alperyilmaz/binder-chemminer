{
 "cells": [
  {
   "cell_type": "markdown",
   "metadata": {},
   "source": [
    "# tidy chemical similarity\n",
    "\n",
    "Load required packages (ChemmineR needs ChemmineOB to use `openbabel`)"
   ]
  },
  {
   "cell_type": "code",
   "execution_count": 2,
   "metadata": {},
   "outputs": [],
   "source": [
    "library(purrr)\n",
    "library(ChemmineR)\n",
    "library(tidyverse)\n",
    "library(tidygraph)"
   ]
  },
  {
   "cell_type": "markdown",
   "metadata": {},
   "source": [
    "Let's define a function which calculates tanimoto similarity between two molecules provided as SMILES"
   ]
  },
  {
   "cell_type": "code",
   "execution_count": 3,
   "metadata": {},
   "outputs": [],
   "source": [
    "# function two calculate tanimoto similarity from two smiles\n",
    "smiles2tanimoto <- function(mol1,mol2){\n",
    "  sdfset <- smiles2sdf(c(cmp1=mol1,cmp2=mol2))\n",
    "  apset <- sdf2ap(sdfset)\n",
    "  fpset <- desc2fp(x=apset, descnames=512, type=\"FPset\")\n",
    "  result <- fpSim(fpset[1], fpset[2], method=\"Tanimoto\")\n",
    "  result\n",
    "}"
   ]
  },
  {
   "cell_type": "markdown",
   "metadata": {},
   "source": [
    "Let's test it on a tiny data frame"
   ]
  },
  {
   "cell_type": "code",
   "execution_count": 4,
   "metadata": {},
   "outputs": [
    {
     "data": {
      "text/html": [
       "<table>\n",
       "<thead><tr><th scope=col>mol1</th><th scope=col>mol2</th><th scope=col>tanim_sim</th></tr></thead>\n",
       "<tbody>\n",
       "\t<tr><td>glucose    </td><td>glucose-6-P</td><td>0.9090909  </td></tr>\n",
       "\t<tr><td>glucose    </td><td>NADH       </td><td>0.4761905  </td></tr>\n",
       "</tbody>\n",
       "</table>\n"
      ],
      "text/latex": [
       "\\begin{tabular}{r|lll}\n",
       " mol1 & mol2 & tanim\\_sim\\\\\n",
       "\\hline\n",
       "\t glucose     & glucose-6-P & 0.9090909  \\\\\n",
       "\t glucose     & NADH        & 0.4761905  \\\\\n",
       "\\end{tabular}\n"
      ],
      "text/markdown": [
       "\n",
       "| mol1 | mol2 | tanim_sim |\n",
       "|---|---|---|\n",
       "| glucose     | glucose-6-P | 0.9090909   |\n",
       "| glucose     | NADH        | 0.4761905   |\n",
       "\n"
      ],
      "text/plain": [
       "  mol1    mol2        tanim_sim\n",
       "1 glucose glucose-6-P 0.9090909\n",
       "2 glucose NADH        0.4761905"
      ]
     },
     "metadata": {},
     "output_type": "display_data"
    }
   ],
   "source": [
    "# test data frame\n",
    "# glucose vs. glucose-6-P\n",
    "# glucose vs. NADH\n",
    "compare_mol <- tibble(mol1=c(\"glucose\",\"glucose\"),\n",
    "                      mol2=c(\"glucose-6-P\",\"NADH\"),\n",
    "                      smi1=c(\"C([C@@H]1[C@H]([C@@H]([C@H](C(O1)O)O)O)O)O\",\n",
    "                             \"C([C@@H]1[C@H]([C@@H]([C@H](C(O1)O)O)O)O)O\"),\n",
    "                      smi2=c(\"C([C@H]([C@H]([C@@H]([C@H](C=O)O)O)O)O)OP(=O)(O)O\",\n",
    "                          \"C1C=CN(C=C1C(=O)N)[C@H]2[C@@H]([C@@H]([C@H](O2)COP(=O)(O)OP(=O)(O)OC[C@@H]3[C@H]([C@H]([C@@H](O3)N4C=NC5=C4N=CN=C5N)O)O)O)O\"))\n",
    "\n",
    "compare_mol %>% \n",
    "  mutate(tanim_sim = map2_dbl(smi1,smi2,~ smiles2tanimoto(.x,.y))) %>% \n",
    "  select(mol1,mol2,tanim_sim)"
   ]
  },
  {
   "cell_type": "code",
   "execution_count": 5,
   "metadata": {},
   "outputs": [],
   "source": [
    "human_ma <- readRDS(\"hma-network-lvalue-20190412.rds\")"
   ]
  },
  {
   "cell_type": "code",
   "execution_count": 6,
   "metadata": {},
   "outputs": [
    {
     "data": {
      "text/plain": [
       "# A tbl_graph: 4624 nodes and 10926 edges\n",
       "#\n",
       "# A directed simple graph with 144 components\n",
       "#\n",
       "# Node Data: 4,624 x 2 (active)\n",
       "  name                              lvalues\n",
       "  <chr>                               <dbl>\n",
       "1 L-lactate[p]                         3.71\n",
       "2 sedoheptulose-1,7-bisphosphate[c]  225.  \n",
       "3 PEP[c]                            1200.  \n",
       "4 3-phospho-D-glycerate[c]           215.  \n",
       "5 GAP[c]                            1368.  \n",
       "6 fructose-1,6-bisphosphate[c]       114.  \n",
       "# … with 4,618 more rows\n",
       "#\n",
       "# Edge Data: 10,926 x 5\n",
       "   from    to no_HMR num_triangles hmr     \n",
       "  <int> <int>  <dbl>         <dbl> <chr>   \n",
       "1     1  1094      1             0 HMR_4281\n",
       "2     2    20      1             1 HMR_4355\n",
       "3     2    53      1             2 HMR_4355\n",
       "# … with 1.092e+04 more rows"
      ]
     },
     "metadata": {},
     "output_type": "display_data"
    }
   ],
   "source": [
    "human_ma"
   ]
  }
 ],
 "metadata": {
  "kernelspec": {
   "display_name": "R",
   "language": "R",
   "name": "ir"
  },
  "language_info": {
   "codemirror_mode": "r",
   "file_extension": ".r",
   "mimetype": "text/x-r-source",
   "name": "R",
   "pygments_lexer": "r",
   "version": "3.4.4"
  }
 },
 "nbformat": 4,
 "nbformat_minor": 2
}
