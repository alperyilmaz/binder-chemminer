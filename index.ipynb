{
 "cells": [
  {
   "cell_type": "markdown",
   "metadata": {},
   "source": [
    "# tidy chemical similarity\n",
    "\n",
    "Load required packages (ChemmineR needs ChemmineOB to use `openbabel`)"
   ]
  },
  {
   "cell_type": "code",
   "execution_count": null,
   "metadata": {},
   "outputs": [],
   "source": [
    "library(purrr)\n",
    "library(ChemmineR)\n",
    "library(tidyverse)"
   ]
  },
  {
   "cell_type": "markdown",
   "metadata": {},
   "source": [
    "Let's define a function which calculates tanimoto similarity between two molecules provided as SMILES"
   ]
  },
  {
   "cell_type": "code",
   "execution_count": null,
   "metadata": {},
   "outputs": [],
   "source": [
    "# function two calculate tanimoto similarity from two smiles\n",
    "smiles2tanimoto <- function(mol1,mol2){\n",
    "  sdfset <- smiles2sdf(c(cmp1=mol1,cmp2=mol2))\n",
    "  apset <- sdf2ap(sdfset)\n",
    "  fpset <- desc2fp(x=apset, descnames=512, type=\"FPset\")\n",
    "  result <- fpSim(fpset[1], fpset[2], method=\"Tanimoto\")\n",
    "  result\n",
    "}"
   ]
  },
  {
   "cell_type": "markdown",
   "metadata": {},
   "source": [
    "Let's test it on a tiny data frame"
   ]
  },
  {
   "cell_type": "code",
   "execution_count": null,
   "metadata": {},
   "outputs": [],
   "source": [
    "# test data frame\n",
    "# glucose vs. glucose-6-P\n",
    "# glucose vs. NADH\n",
    "compare_mol <- tibble(mol1=c(\"glucose\",\"glucose\"),\n",
    "                      mol2=c(\"glucose-6-P\",\"NADH\"),\n",
    "                      smi1=c(\"C([C@@H]1[C@H]([C@@H]([C@H](C(O1)O)O)O)O)O\",\n",
    "                             \"C([C@@H]1[C@H]([C@@H]([C@H](C(O1)O)O)O)O)O\"),\n",
    "                      smi2=c(\"C([C@H]([C@H]([C@@H]([C@H](C=O)O)O)O)O)OP(=O)(O)O\",\n",
    "                          \"C1C=CN(C=C1C(=O)N)[C@H]2[C@@H]([C@@H]([C@H](O2)COP(=O)(O)OP(=O)(O)OC[C@@H]3[C@H]([C@H]([C@@H](O3)N4C=NC5=C4N=CN=C5N)O)O)O)O\"))\n",
    "\n",
    "compare_mol %>% \n",
    "  mutate(tanim_sim = map2_dbl(smi1,smi2,~ smiles2tanimoto(.x,.y))) %>% \n",
    "  select(mol1,mol2,tanim_sim)"
   ]
  }
 ],
 "metadata": {
  "kernelspec": {
   "display_name": "R",
   "language": "R",
   "name": "ir"
  },
  "language_info": {
   "codemirror_mode": "r",
   "file_extension": ".r",
   "mimetype": "text/x-r-source",
   "name": "R",
   "pygments_lexer": "r",
   "version": "3.4.4"
  }
 },
 "nbformat": 4,
 "nbformat_minor": 2
}
