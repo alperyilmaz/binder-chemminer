{
 "cells": [
  {
   "cell_type": "markdown",
   "metadata": {},
   "source": [
    "# tidy chemical similarity\n",
    "\n",
    "Load required packages (ChemmineR needs ChemmineOB to use `openbabel`)"
   ]
  },
  {
   "cell_type": "code",
   "execution_count": 1,
   "metadata": {},
   "outputs": [
    {
     "name": "stderr",
     "output_type": "stream",
     "text": [
      "── Attaching packages ─────────────────────────────────────── tidyverse 1.2.1 ──\n",
      "✔ ggplot2 3.1.0       ✔ readr   1.3.1  \n",
      "✔ tibble  2.0.1       ✔ dplyr   0.8.0.1\n",
      "✔ tidyr   0.8.2       ✔ stringr 1.4.0  \n",
      "✔ ggplot2 3.1.0       ✔ forcats 0.4.0  \n",
      "── Conflicts ────────────────────────────────────────── tidyverse_conflicts() ──\n",
      "✖ dplyr::filter() masks stats::filter()\n",
      "✖ dplyr::groups() masks ChemmineR::groups()\n",
      "✖ dplyr::lag()    masks stats::lag()\n",
      "✖ tibble::view()  masks ChemmineR::view()\n",
      "\n",
      "Attaching package: ‘tidygraph’\n",
      "\n",
      "The following object is masked from ‘package:ChemmineR’:\n",
      "\n",
      "    groups\n",
      "\n",
      "The following object is masked from ‘package:stats’:\n",
      "\n",
      "    filter\n",
      "\n"
     ]
    }
   ],
   "source": [
    "library(purrr)\n",
    "library(ChemmineR)\n",
    "library(tidyverse)\n",
    "library(tidygraph)"
   ]
  },
  {
   "cell_type": "markdown",
   "metadata": {},
   "source": [
    "# Tanimoto similarity calculation"
   ]
  },
  {
   "cell_type": "markdown",
   "metadata": {},
   "source": [
    "Let's define a function which calculates tanimoto similarity between two molecules provided as SMILES"
   ]
  },
  {
   "cell_type": "code",
   "execution_count": 2,
   "metadata": {},
   "outputs": [],
   "source": [
    "# function two calculate tanimoto similarity from two smiles\n",
    "smiles2tanimoto <- function(mol1,mol2){\n",
    "  sdfset <- smiles2sdf(c(cmp1=mol1,cmp2=mol2))\n",
    "  apset <- sdf2ap(sdfset)\n",
    "  fpset <- desc2fp(x=apset, descnames=512, type=\"FPset\")\n",
    "  result <- fpSim(fpset[1], fpset[2], method=\"Tanimoto\")\n",
    "  result\n",
    "}"
   ]
  },
  {
   "cell_type": "markdown",
   "metadata": {},
   "source": [
    "Let's test it on a tiny data frame"
   ]
  },
  {
   "cell_type": "code",
   "execution_count": 3,
   "metadata": {},
   "outputs": [
    {
     "data": {
      "text/html": [
       "<table>\n",
       "<caption>A tibble: 2 × 3</caption>\n",
       "<thead>\n",
       "\t<tr><th scope=col>mol1</th><th scope=col>mol2</th><th scope=col>tanim_sim</th></tr>\n",
       "\t<tr><th scope=col>&lt;chr&gt;</th><th scope=col>&lt;chr&gt;</th><th scope=col>&lt;dbl&gt;</th></tr>\n",
       "</thead>\n",
       "<tbody>\n",
       "\t<tr><td>glucose</td><td>glucose-6-P</td><td>0.9090909</td></tr>\n",
       "\t<tr><td>glucose</td><td>NADH       </td><td>0.4761905</td></tr>\n",
       "</tbody>\n",
       "</table>\n"
      ],
      "text/latex": [
       "A tibble: 2 × 3\n",
       "\\begin{tabular}{r|lll}\n",
       " mol1 & mol2 & tanim\\_sim\\\\\n",
       " <chr> & <chr> & <dbl>\\\\\n",
       "\\hline\n",
       "\t glucose & glucose-6-P & 0.9090909\\\\\n",
       "\t glucose & NADH        & 0.4761905\\\\\n",
       "\\end{tabular}\n"
      ],
      "text/markdown": [
       "\n",
       "A tibble: 2 × 3\n",
       "\n",
       "| mol1 &lt;chr&gt; | mol2 &lt;chr&gt; | tanim_sim &lt;dbl&gt; |\n",
       "|---|---|---|\n",
       "| glucose | glucose-6-P | 0.9090909 |\n",
       "| glucose | NADH        | 0.4761905 |\n",
       "\n"
      ],
      "text/plain": [
       "  mol1    mol2        tanim_sim\n",
       "1 glucose glucose-6-P 0.9090909\n",
       "2 glucose NADH        0.4761905"
      ]
     },
     "metadata": {},
     "output_type": "display_data"
    }
   ],
   "source": [
    "# test data frame\n",
    "# glucose vs. glucose-6-P\n",
    "# glucose vs. NADH\n",
    "compare_mol <- tibble(mol1=c(\"glucose\",\"glucose\"),\n",
    "                      mol2=c(\"glucose-6-P\",\"NADH\"),\n",
    "                      smi1=c(\"C([C@@H]1[C@H]([C@@H]([C@H](C(O1)O)O)O)O)O\",\n",
    "                             \"C([C@@H]1[C@H]([C@@H]([C@H](C(O1)O)O)O)O)O\"),\n",
    "                      smi2=c(\"C([C@H]([C@H]([C@@H]([C@H](C=O)O)O)O)O)OP(=O)(O)O\",\n",
    "                          \"C1C=CN(C=C1C(=O)N)[C@H]2[C@@H]([C@@H]([C@H](O2)COP(=O)(O)OP(=O)(O)OC[C@@H]3[C@H]([C@H]([C@@H](O3)N4C=NC5=C4N=CN=C5N)O)O)O)O\"))\n",
    "\n",
    "compare_mol %>% \n",
    "  mutate(tanim_sim = map2_dbl(smi1,smi2,~ smiles2tanimoto(.x,.y))) %>% \n",
    "  select(mol1,mol2,tanim_sim)"
   ]
  },
  {
   "cell_type": "markdown",
   "metadata": {},
   "source": [
    "# fmcs trial"
   ]
  },
  {
   "cell_type": "code",
   "execution_count": 4,
   "metadata": {},
   "outputs": [],
   "source": [
    "library(fmcsR)"
   ]
  },
  {
   "cell_type": "code",
   "execution_count": 5,
   "metadata": {},
   "outputs": [],
   "source": [
    "smiles2fmcs <- function(mol1,mol2){\n",
    "  sdfset <- smiles2sdf(c(cmp1=mol1,cmp2=mol2))\n",
    "  result <- fmcs(sdfset[1], sdfset[2], fast=TRUE)\n",
    "  result\n",
    "}"
   ]
  },
  {
   "cell_type": "code",
   "execution_count": 6,
   "metadata": {},
   "outputs": [
    {
     "data": {
      "text/html": [
       "<table>\n",
       "<caption>A tibble: 2 × 5</caption>\n",
       "<thead>\n",
       "\t<tr><th scope=col>mol1</th><th scope=col>mol2</th><th scope=col>smi1</th><th scope=col>smi2</th><th scope=col>fmcs_info</th></tr>\n",
       "\t<tr><th scope=col>&lt;chr&gt;</th><th scope=col>&lt;chr&gt;</th><th scope=col>&lt;chr&gt;</th><th scope=col>&lt;chr&gt;</th><th scope=col>&lt;list&gt;</th></tr>\n",
       "</thead>\n",
       "<tbody>\n",
       "\t<tr><td>glucose</td><td>glucose-6-P</td><td>C([C@@H]1[C@H]([C@@H]([C@H](C(O1)O)O)O)O)O</td><td>C([C@H]([C@H]([C@@H]([C@H](C=O)O)O)O)O)OP(=O)(O)O                                                                          </td><td>12.0000000, 16.0000000, 10.0000000, 0.5555556, 0.8333333</td></tr>\n",
       "\t<tr><td>glucose</td><td>NADH       </td><td>C([C@@H]1[C@H]([C@@H]([C@H](C(O1)O)O)O)O)O</td><td>C1C=CN(C=C1C(=O)N)[C@H]2[C@@H]([C@@H]([C@H](O2)COP(=O)(O)OP(=O)(O)OC[C@@H]3[C@H]([C@H]([C@@H](O3)N4C=NC5=C4N=CN=C5N)O)O)O)O</td><td>12.0000000, 44.0000000, 8.0000000, 0.1666667, 0.6666667</td></tr>\n",
       "</tbody>\n",
       "</table>\n"
      ],
      "text/latex": [
       "A tibble: 2 × 5\n",
       "\\begin{tabular}{r|lllll}\n",
       " mol1 & mol2 & smi1 & smi2 & fmcs\\_info\\\\\n",
       " <chr> & <chr> & <chr> & <chr> & <list>\\\\\n",
       "\\hline\n",
       "\t glucose & glucose-6-P & C({[}C@@H{]}1{[}C@H{]}({[}C@@H{]}({[}C@H{]}(C(O1)O)O)O)O)O & C({[}C@H{]}({[}C@H{]}({[}C@@H{]}({[}C@H{]}(C=O)O)O)O)O)OP(=O)(O)O                                                                           & 12.0000000, 16.0000000, 10.0000000, 0.5555556, 0.8333333\\\\\n",
       "\t glucose & NADH        & C({[}C@@H{]}1{[}C@H{]}({[}C@@H{]}({[}C@H{]}(C(O1)O)O)O)O)O & C1C=CN(C=C1C(=O)N){[}C@H{]}2{[}C@@H{]}({[}C@@H{]}({[}C@H{]}(O2)COP(=O)(O)OP(=O)(O)OC{[}C@@H{]}3{[}C@H{]}({[}C@H{]}({[}C@@H{]}(O3)N4C=NC5=C4N=CN=C5N)O)O)O)O & 12.0000000, 44.0000000, 8.0000000, 0.1666667, 0.6666667\\\\\n",
       "\\end{tabular}\n"
      ],
      "text/markdown": [
       "\n",
       "A tibble: 2 × 5\n",
       "\n",
       "| mol1 &lt;chr&gt; | mol2 &lt;chr&gt; | smi1 &lt;chr&gt; | smi2 &lt;chr&gt; | fmcs_info &lt;list&gt; |\n",
       "|---|---|---|---|---|\n",
       "| glucose | glucose-6-P | C([C@@H]1[C@H]([C@@H]([C@H](C(O1)O)O)O)O)O | C([C@H]([C@H]([C@@H]([C@H](C=O)O)O)O)O)OP(=O)(O)O                                                                           | 12.0000000, 16.0000000, 10.0000000, 0.5555556, 0.8333333 |\n",
       "| glucose | NADH        | C([C@@H]1[C@H]([C@@H]([C@H](C(O1)O)O)O)O)O | C1C=CN(C=C1C(=O)N)[C@H]2[C@@H]([C@@H]([C@H](O2)COP(=O)(O)OP(=O)(O)OC[C@@H]3[C@H]([C@H]([C@@H](O3)N4C=NC5=C4N=CN=C5N)O)O)O)O | 12.0000000, 44.0000000, 8.0000000, 0.1666667, 0.6666667 |\n",
       "\n"
      ],
      "text/plain": [
       "  mol1    mol2        smi1                                      \n",
       "1 glucose glucose-6-P C([C@@H]1[C@H]([C@@H]([C@H](C(O1)O)O)O)O)O\n",
       "2 glucose NADH        C([C@@H]1[C@H]([C@@H]([C@H](C(O1)O)O)O)O)O\n",
       "  smi2                                                                                                                       \n",
       "1 C([C@H]([C@H]([C@@H]([C@H](C=O)O)O)O)O)OP(=O)(O)O                                                                          \n",
       "2 C1C=CN(C=C1C(=O)N)[C@H]2[C@@H]([C@@H]([C@H](O2)COP(=O)(O)OP(=O)(O)OC[C@@H]3[C@H]([C@H]([C@@H](O3)N4C=NC5=C4N=CN=C5N)O)O)O)O\n",
       "  fmcs_info                                               \n",
       "1 12.0000000, 16.0000000, 10.0000000, 0.5555556, 0.8333333\n",
       "2 12.0000000, 44.0000000, 8.0000000, 0.1666667, 0.6666667 "
      ]
     },
     "metadata": {},
     "output_type": "display_data"
    }
   ],
   "source": [
    "fmcs_test <- compare_mol %>% \n",
    "  mutate(fmcs_info = map2(smi1,smi2,~ smiles2fmcs(.x,.y))) \n",
    "\n",
    "fmcs_test"
   ]
  },
  {
   "cell_type": "code",
   "execution_count": 7,
   "metadata": {},
   "outputs": [
    {
     "data": {
      "text/html": [
       "<table>\n",
       "<caption>A tibble: 1 × 1</caption>\n",
       "<thead>\n",
       "\t<tr><th scope=col>fmcs_test$fmcs_info[2]</th></tr>\n",
       "\t<tr><th scope=col>&lt;list&gt;</th></tr>\n",
       "</thead>\n",
       "<tbody>\n",
       "\t<tr><td>12.0000000, 44.0000000, 8.0000000, 0.1666667, 0.6666667</td></tr>\n",
       "</tbody>\n",
       "</table>\n"
      ],
      "text/latex": [
       "A tibble: 1 × 1\n",
       "\\begin{tabular}{r|l}\n",
       " fmcs\\_test\\$fmcs\\_info{[}2{]}\\\\\n",
       " <list>\\\\\n",
       "\\hline\n",
       "\t 12.0000000, 44.0000000, 8.0000000, 0.1666667, 0.6666667\\\\\n",
       "\\end{tabular}\n"
      ],
      "text/markdown": [
       "\n",
       "A tibble: 1 × 1\n",
       "\n",
       "| fmcs_test$fmcs_info[2] &lt;list&gt; |\n",
       "|---|\n",
       "| 12.0000000, 44.0000000, 8.0000000, 0.1666667, 0.6666667 |\n",
       "\n"
      ],
      "text/plain": [
       "  fmcs_test$fmcs_info[2]                                 \n",
       "1 12.0000000, 44.0000000, 8.0000000, 0.1666667, 0.6666667"
      ]
     },
     "metadata": {},
     "output_type": "display_data"
    }
   ],
   "source": [
    "tibble(fmcs_test$fmcs_info[2])"
   ]
  },
  {
   "cell_type": "code",
   "execution_count": 8,
   "metadata": {},
   "outputs": [
    {
     "data": {
      "text/html": [
       "<table>\n",
       "<caption>A tibble: 2 × 5</caption>\n",
       "<thead>\n",
       "\t<tr><th scope=col>mol1</th><th scope=col>mol2</th><th scope=col>smi1</th><th scope=col>smi2</th><th scope=col>fmcs_info</th></tr>\n",
       "\t<tr><th scope=col>&lt;chr&gt;</th><th scope=col>&lt;chr&gt;</th><th scope=col>&lt;chr&gt;</th><th scope=col>&lt;chr&gt;</th><th scope=col>&lt;list&gt;</th></tr>\n",
       "</thead>\n",
       "<tbody>\n",
       "\t<tr><td>glucose</td><td>glucose-6-P</td><td>C([C@@H]1[C@H]([C@@H]([C@H](C(O1)O)O)O)O)O</td><td>C([C@H]([C@H]([C@@H]([C@H](C=O)O)O)O)O)OP(=O)(O)O                                                                          </td><td>16.0000000, 12.0000000, 10.0000000, 0.5555556, 0.8333333</td></tr>\n",
       "\t<tr><td>glucose</td><td>NADH       </td><td>C([C@@H]1[C@H]([C@@H]([C@H](C(O1)O)O)O)O)O</td><td>C1C=CN(C=C1C(=O)N)[C@H]2[C@@H]([C@@H]([C@H](O2)COP(=O)(O)OP(=O)(O)OC[C@@H]3[C@H]([C@H]([C@@H](O3)N4C=NC5=C4N=CN=C5N)O)O)O)O</td><td>44.0000000, 12.0000000, 8.0000000, 0.1666667, 0.6666667</td></tr>\n",
       "</tbody>\n",
       "</table>\n"
      ],
      "text/latex": [
       "A tibble: 2 × 5\n",
       "\\begin{tabular}{r|lllll}\n",
       " mol1 & mol2 & smi1 & smi2 & fmcs\\_info\\\\\n",
       " <chr> & <chr> & <chr> & <chr> & <list>\\\\\n",
       "\\hline\n",
       "\t glucose & glucose-6-P & C({[}C@@H{]}1{[}C@H{]}({[}C@@H{]}({[}C@H{]}(C(O1)O)O)O)O)O & C({[}C@H{]}({[}C@H{]}({[}C@@H{]}({[}C@H{]}(C=O)O)O)O)O)OP(=O)(O)O                                                                           & 16.0000000, 12.0000000, 10.0000000, 0.5555556, 0.8333333\\\\\n",
       "\t glucose & NADH        & C({[}C@@H{]}1{[}C@H{]}({[}C@@H{]}({[}C@H{]}(C(O1)O)O)O)O)O & C1C=CN(C=C1C(=O)N){[}C@H{]}2{[}C@@H{]}({[}C@@H{]}({[}C@H{]}(O2)COP(=O)(O)OP(=O)(O)OC{[}C@@H{]}3{[}C@H{]}({[}C@H{]}({[}C@@H{]}(O3)N4C=NC5=C4N=CN=C5N)O)O)O)O & 44.0000000, 12.0000000, 8.0000000, 0.1666667, 0.6666667\\\\\n",
       "\\end{tabular}\n"
      ],
      "text/markdown": [
       "\n",
       "A tibble: 2 × 5\n",
       "\n",
       "| mol1 &lt;chr&gt; | mol2 &lt;chr&gt; | smi1 &lt;chr&gt; | smi2 &lt;chr&gt; | fmcs_info &lt;list&gt; |\n",
       "|---|---|---|---|---|\n",
       "| glucose | glucose-6-P | C([C@@H]1[C@H]([C@@H]([C@H](C(O1)O)O)O)O)O | C([C@H]([C@H]([C@@H]([C@H](C=O)O)O)O)O)OP(=O)(O)O                                                                           | 16.0000000, 12.0000000, 10.0000000, 0.5555556, 0.8333333 |\n",
       "| glucose | NADH        | C([C@@H]1[C@H]([C@@H]([C@H](C(O1)O)O)O)O)O | C1C=CN(C=C1C(=O)N)[C@H]2[C@@H]([C@@H]([C@H](O2)COP(=O)(O)OP(=O)(O)OC[C@@H]3[C@H]([C@H]([C@@H](O3)N4C=NC5=C4N=CN=C5N)O)O)O)O | 44.0000000, 12.0000000, 8.0000000, 0.1666667, 0.6666667 |\n",
       "\n"
      ],
      "text/plain": [
       "  mol1    mol2        smi1                                      \n",
       "1 glucose glucose-6-P C([C@@H]1[C@H]([C@@H]([C@H](C(O1)O)O)O)O)O\n",
       "2 glucose NADH        C([C@@H]1[C@H]([C@@H]([C@H](C(O1)O)O)O)O)O\n",
       "  smi2                                                                                                                       \n",
       "1 C([C@H]([C@H]([C@@H]([C@H](C=O)O)O)O)O)OP(=O)(O)O                                                                          \n",
       "2 C1C=CN(C=C1C(=O)N)[C@H]2[C@@H]([C@@H]([C@H](O2)COP(=O)(O)OP(=O)(O)OC[C@@H]3[C@H]([C@H]([C@@H](O3)N4C=NC5=C4N=CN=C5N)O)O)O)O\n",
       "  fmcs_info                                               \n",
       "1 16.0000000, 12.0000000, 10.0000000, 0.5555556, 0.8333333\n",
       "2 44.0000000, 12.0000000, 8.0000000, 0.1666667, 0.6666667 "
      ]
     },
     "metadata": {},
     "output_type": "display_data"
    }
   ],
   "source": [
    "fmcs_test_rev <- compare_mol %>% \n",
    "  mutate(fmcs_info = map2(smi1,smi2,~ smiles2fmcs(.y,.x))) \n",
    "\n",
    "fmcs_test_rev"
   ]
  },
  {
   "cell_type": "code",
   "execution_count": 9,
   "metadata": {},
   "outputs": [
    {
     "data": {
      "text/html": [
       "<table>\n",
       "<caption>A tibble: 10 × 6</caption>\n",
       "<thead>\n",
       "\t<tr><th scope=col>mol1</th><th scope=col>mol2</th><th scope=col>smi1</th><th scope=col>smi2</th><th scope=col>fmcs_info</th><th scope=col>name</th></tr>\n",
       "\t<tr><th scope=col>&lt;chr&gt;</th><th scope=col>&lt;chr&gt;</th><th scope=col>&lt;chr&gt;</th><th scope=col>&lt;chr&gt;</th><th scope=col>&lt;dbl&gt;</th><th scope=col>&lt;int&gt;</th></tr>\n",
       "</thead>\n",
       "<tbody>\n",
       "\t<tr><td>glucose</td><td>glucose-6-P</td><td>C([C@@H]1[C@H]([C@@H]([C@H](C(O1)O)O)O)O)O</td><td>C([C@H]([C@H]([C@@H]([C@H](C=O)O)O)O)O)OP(=O)(O)O                                                                          </td><td>12.0000000</td><td>1</td></tr>\n",
       "\t<tr><td>glucose</td><td>glucose-6-P</td><td>C([C@@H]1[C@H]([C@@H]([C@H](C(O1)O)O)O)O)O</td><td>C([C@H]([C@H]([C@@H]([C@H](C=O)O)O)O)O)OP(=O)(O)O                                                                          </td><td>16.0000000</td><td>1</td></tr>\n",
       "\t<tr><td>glucose</td><td>glucose-6-P</td><td>C([C@@H]1[C@H]([C@@H]([C@H](C(O1)O)O)O)O)O</td><td>C([C@H]([C@H]([C@@H]([C@H](C=O)O)O)O)O)OP(=O)(O)O                                                                          </td><td>10.0000000</td><td>1</td></tr>\n",
       "\t<tr><td>glucose</td><td>glucose-6-P</td><td>C([C@@H]1[C@H]([C@@H]([C@H](C(O1)O)O)O)O)O</td><td>C([C@H]([C@H]([C@@H]([C@H](C=O)O)O)O)O)OP(=O)(O)O                                                                          </td><td> 0.5555556</td><td>1</td></tr>\n",
       "\t<tr><td>glucose</td><td>glucose-6-P</td><td>C([C@@H]1[C@H]([C@@H]([C@H](C(O1)O)O)O)O)O</td><td>C([C@H]([C@H]([C@@H]([C@H](C=O)O)O)O)O)OP(=O)(O)O                                                                          </td><td> 0.8333333</td><td>1</td></tr>\n",
       "\t<tr><td>glucose</td><td>NADH       </td><td>C([C@@H]1[C@H]([C@@H]([C@H](C(O1)O)O)O)O)O</td><td>C1C=CN(C=C1C(=O)N)[C@H]2[C@@H]([C@@H]([C@H](O2)COP(=O)(O)OP(=O)(O)OC[C@@H]3[C@H]([C@H]([C@@H](O3)N4C=NC5=C4N=CN=C5N)O)O)O)O</td><td>12.0000000</td><td>2</td></tr>\n",
       "\t<tr><td>glucose</td><td>NADH       </td><td>C([C@@H]1[C@H]([C@@H]([C@H](C(O1)O)O)O)O)O</td><td>C1C=CN(C=C1C(=O)N)[C@H]2[C@@H]([C@@H]([C@H](O2)COP(=O)(O)OP(=O)(O)OC[C@@H]3[C@H]([C@H]([C@@H](O3)N4C=NC5=C4N=CN=C5N)O)O)O)O</td><td>44.0000000</td><td>2</td></tr>\n",
       "\t<tr><td>glucose</td><td>NADH       </td><td>C([C@@H]1[C@H]([C@@H]([C@H](C(O1)O)O)O)O)O</td><td>C1C=CN(C=C1C(=O)N)[C@H]2[C@@H]([C@@H]([C@H](O2)COP(=O)(O)OP(=O)(O)OC[C@@H]3[C@H]([C@H]([C@@H](O3)N4C=NC5=C4N=CN=C5N)O)O)O)O</td><td> 8.0000000</td><td>2</td></tr>\n",
       "\t<tr><td>glucose</td><td>NADH       </td><td>C([C@@H]1[C@H]([C@@H]([C@H](C(O1)O)O)O)O)O</td><td>C1C=CN(C=C1C(=O)N)[C@H]2[C@@H]([C@@H]([C@H](O2)COP(=O)(O)OP(=O)(O)OC[C@@H]3[C@H]([C@H]([C@@H](O3)N4C=NC5=C4N=CN=C5N)O)O)O)O</td><td> 0.1666667</td><td>2</td></tr>\n",
       "\t<tr><td>glucose</td><td>NADH       </td><td>C([C@@H]1[C@H]([C@@H]([C@H](C(O1)O)O)O)O)O</td><td>C1C=CN(C=C1C(=O)N)[C@H]2[C@@H]([C@@H]([C@H](O2)COP(=O)(O)OP(=O)(O)OC[C@@H]3[C@H]([C@H]([C@@H](O3)N4C=NC5=C4N=CN=C5N)O)O)O)O</td><td> 0.6666667</td><td>2</td></tr>\n",
       "</tbody>\n",
       "</table>\n"
      ],
      "text/latex": [
       "A tibble: 10 × 6\n",
       "\\begin{tabular}{r|llllll}\n",
       " mol1 & mol2 & smi1 & smi2 & fmcs\\_info & name\\\\\n",
       " <chr> & <chr> & <chr> & <chr> & <dbl> & <int>\\\\\n",
       "\\hline\n",
       "\t glucose & glucose-6-P & C({[}C@@H{]}1{[}C@H{]}({[}C@@H{]}({[}C@H{]}(C(O1)O)O)O)O)O & C({[}C@H{]}({[}C@H{]}({[}C@@H{]}({[}C@H{]}(C=O)O)O)O)O)OP(=O)(O)O                                                                           & 12.0000000 & 1\\\\\n",
       "\t glucose & glucose-6-P & C({[}C@@H{]}1{[}C@H{]}({[}C@@H{]}({[}C@H{]}(C(O1)O)O)O)O)O & C({[}C@H{]}({[}C@H{]}({[}C@@H{]}({[}C@H{]}(C=O)O)O)O)O)OP(=O)(O)O                                                                           & 16.0000000 & 1\\\\\n",
       "\t glucose & glucose-6-P & C({[}C@@H{]}1{[}C@H{]}({[}C@@H{]}({[}C@H{]}(C(O1)O)O)O)O)O & C({[}C@H{]}({[}C@H{]}({[}C@@H{]}({[}C@H{]}(C=O)O)O)O)O)OP(=O)(O)O                                                                           & 10.0000000 & 1\\\\\n",
       "\t glucose & glucose-6-P & C({[}C@@H{]}1{[}C@H{]}({[}C@@H{]}({[}C@H{]}(C(O1)O)O)O)O)O & C({[}C@H{]}({[}C@H{]}({[}C@@H{]}({[}C@H{]}(C=O)O)O)O)O)OP(=O)(O)O                                                                           &  0.5555556 & 1\\\\\n",
       "\t glucose & glucose-6-P & C({[}C@@H{]}1{[}C@H{]}({[}C@@H{]}({[}C@H{]}(C(O1)O)O)O)O)O & C({[}C@H{]}({[}C@H{]}({[}C@@H{]}({[}C@H{]}(C=O)O)O)O)O)OP(=O)(O)O                                                                           &  0.8333333 & 1\\\\\n",
       "\t glucose & NADH        & C({[}C@@H{]}1{[}C@H{]}({[}C@@H{]}({[}C@H{]}(C(O1)O)O)O)O)O & C1C=CN(C=C1C(=O)N){[}C@H{]}2{[}C@@H{]}({[}C@@H{]}({[}C@H{]}(O2)COP(=O)(O)OP(=O)(O)OC{[}C@@H{]}3{[}C@H{]}({[}C@H{]}({[}C@@H{]}(O3)N4C=NC5=C4N=CN=C5N)O)O)O)O & 12.0000000 & 2\\\\\n",
       "\t glucose & NADH        & C({[}C@@H{]}1{[}C@H{]}({[}C@@H{]}({[}C@H{]}(C(O1)O)O)O)O)O & C1C=CN(C=C1C(=O)N){[}C@H{]}2{[}C@@H{]}({[}C@@H{]}({[}C@H{]}(O2)COP(=O)(O)OP(=O)(O)OC{[}C@@H{]}3{[}C@H{]}({[}C@H{]}({[}C@@H{]}(O3)N4C=NC5=C4N=CN=C5N)O)O)O)O & 44.0000000 & 2\\\\\n",
       "\t glucose & NADH        & C({[}C@@H{]}1{[}C@H{]}({[}C@@H{]}({[}C@H{]}(C(O1)O)O)O)O)O & C1C=CN(C=C1C(=O)N){[}C@H{]}2{[}C@@H{]}({[}C@@H{]}({[}C@H{]}(O2)COP(=O)(O)OP(=O)(O)OC{[}C@@H{]}3{[}C@H{]}({[}C@H{]}({[}C@@H{]}(O3)N4C=NC5=C4N=CN=C5N)O)O)O)O &  8.0000000 & 2\\\\\n",
       "\t glucose & NADH        & C({[}C@@H{]}1{[}C@H{]}({[}C@@H{]}({[}C@H{]}(C(O1)O)O)O)O)O & C1C=CN(C=C1C(=O)N){[}C@H{]}2{[}C@@H{]}({[}C@@H{]}({[}C@H{]}(O2)COP(=O)(O)OP(=O)(O)OC{[}C@@H{]}3{[}C@H{]}({[}C@H{]}({[}C@@H{]}(O3)N4C=NC5=C4N=CN=C5N)O)O)O)O &  0.1666667 & 2\\\\\n",
       "\t glucose & NADH        & C({[}C@@H{]}1{[}C@H{]}({[}C@@H{]}({[}C@H{]}(C(O1)O)O)O)O)O & C1C=CN(C=C1C(=O)N){[}C@H{]}2{[}C@@H{]}({[}C@@H{]}({[}C@H{]}(O2)COP(=O)(O)OP(=O)(O)OC{[}C@@H{]}3{[}C@H{]}({[}C@H{]}({[}C@@H{]}(O3)N4C=NC5=C4N=CN=C5N)O)O)O)O &  0.6666667 & 2\\\\\n",
       "\\end{tabular}\n"
      ],
      "text/markdown": [
       "\n",
       "A tibble: 10 × 6\n",
       "\n",
       "| mol1 &lt;chr&gt; | mol2 &lt;chr&gt; | smi1 &lt;chr&gt; | smi2 &lt;chr&gt; | fmcs_info &lt;dbl&gt; | name &lt;int&gt; |\n",
       "|---|---|---|---|---|---|\n",
       "| glucose | glucose-6-P | C([C@@H]1[C@H]([C@@H]([C@H](C(O1)O)O)O)O)O | C([C@H]([C@H]([C@@H]([C@H](C=O)O)O)O)O)OP(=O)(O)O                                                                           | 12.0000000 | 1 |\n",
       "| glucose | glucose-6-P | C([C@@H]1[C@H]([C@@H]([C@H](C(O1)O)O)O)O)O | C([C@H]([C@H]([C@@H]([C@H](C=O)O)O)O)O)OP(=O)(O)O                                                                           | 16.0000000 | 1 |\n",
       "| glucose | glucose-6-P | C([C@@H]1[C@H]([C@@H]([C@H](C(O1)O)O)O)O)O | C([C@H]([C@H]([C@@H]([C@H](C=O)O)O)O)O)OP(=O)(O)O                                                                           | 10.0000000 | 1 |\n",
       "| glucose | glucose-6-P | C([C@@H]1[C@H]([C@@H]([C@H](C(O1)O)O)O)O)O | C([C@H]([C@H]([C@@H]([C@H](C=O)O)O)O)O)OP(=O)(O)O                                                                           |  0.5555556 | 1 |\n",
       "| glucose | glucose-6-P | C([C@@H]1[C@H]([C@@H]([C@H](C(O1)O)O)O)O)O | C([C@H]([C@H]([C@@H]([C@H](C=O)O)O)O)O)OP(=O)(O)O                                                                           |  0.8333333 | 1 |\n",
       "| glucose | NADH        | C([C@@H]1[C@H]([C@@H]([C@H](C(O1)O)O)O)O)O | C1C=CN(C=C1C(=O)N)[C@H]2[C@@H]([C@@H]([C@H](O2)COP(=O)(O)OP(=O)(O)OC[C@@H]3[C@H]([C@H]([C@@H](O3)N4C=NC5=C4N=CN=C5N)O)O)O)O | 12.0000000 | 2 |\n",
       "| glucose | NADH        | C([C@@H]1[C@H]([C@@H]([C@H](C(O1)O)O)O)O)O | C1C=CN(C=C1C(=O)N)[C@H]2[C@@H]([C@@H]([C@H](O2)COP(=O)(O)OP(=O)(O)OC[C@@H]3[C@H]([C@H]([C@@H](O3)N4C=NC5=C4N=CN=C5N)O)O)O)O | 44.0000000 | 2 |\n",
       "| glucose | NADH        | C([C@@H]1[C@H]([C@@H]([C@H](C(O1)O)O)O)O)O | C1C=CN(C=C1C(=O)N)[C@H]2[C@@H]([C@@H]([C@H](O2)COP(=O)(O)OP(=O)(O)OC[C@@H]3[C@H]([C@H]([C@@H](O3)N4C=NC5=C4N=CN=C5N)O)O)O)O |  8.0000000 | 2 |\n",
       "| glucose | NADH        | C([C@@H]1[C@H]([C@@H]([C@H](C(O1)O)O)O)O)O | C1C=CN(C=C1C(=O)N)[C@H]2[C@@H]([C@@H]([C@H](O2)COP(=O)(O)OP(=O)(O)OC[C@@H]3[C@H]([C@H]([C@@H](O3)N4C=NC5=C4N=CN=C5N)O)O)O)O |  0.1666667 | 2 |\n",
       "| glucose | NADH        | C([C@@H]1[C@H]([C@@H]([C@H](C(O1)O)O)O)O)O | C1C=CN(C=C1C(=O)N)[C@H]2[C@@H]([C@@H]([C@H](O2)COP(=O)(O)OP(=O)(O)OC[C@@H]3[C@H]([C@H]([C@@H](O3)N4C=NC5=C4N=CN=C5N)O)O)O)O |  0.6666667 | 2 |\n",
       "\n"
      ],
      "text/plain": [
       "   mol1    mol2        smi1                                      \n",
       "1  glucose glucose-6-P C([C@@H]1[C@H]([C@@H]([C@H](C(O1)O)O)O)O)O\n",
       "2  glucose glucose-6-P C([C@@H]1[C@H]([C@@H]([C@H](C(O1)O)O)O)O)O\n",
       "3  glucose glucose-6-P C([C@@H]1[C@H]([C@@H]([C@H](C(O1)O)O)O)O)O\n",
       "4  glucose glucose-6-P C([C@@H]1[C@H]([C@@H]([C@H](C(O1)O)O)O)O)O\n",
       "5  glucose glucose-6-P C([C@@H]1[C@H]([C@@H]([C@H](C(O1)O)O)O)O)O\n",
       "6  glucose NADH        C([C@@H]1[C@H]([C@@H]([C@H](C(O1)O)O)O)O)O\n",
       "7  glucose NADH        C([C@@H]1[C@H]([C@@H]([C@H](C(O1)O)O)O)O)O\n",
       "8  glucose NADH        C([C@@H]1[C@H]([C@@H]([C@H](C(O1)O)O)O)O)O\n",
       "9  glucose NADH        C([C@@H]1[C@H]([C@@H]([C@H](C(O1)O)O)O)O)O\n",
       "10 glucose NADH        C([C@@H]1[C@H]([C@@H]([C@H](C(O1)O)O)O)O)O\n",
       "   smi2                                                                                                                       \n",
       "1  C([C@H]([C@H]([C@@H]([C@H](C=O)O)O)O)O)OP(=O)(O)O                                                                          \n",
       "2  C([C@H]([C@H]([C@@H]([C@H](C=O)O)O)O)O)OP(=O)(O)O                                                                          \n",
       "3  C([C@H]([C@H]([C@@H]([C@H](C=O)O)O)O)O)OP(=O)(O)O                                                                          \n",
       "4  C([C@H]([C@H]([C@@H]([C@H](C=O)O)O)O)O)OP(=O)(O)O                                                                          \n",
       "5  C([C@H]([C@H]([C@@H]([C@H](C=O)O)O)O)O)OP(=O)(O)O                                                                          \n",
       "6  C1C=CN(C=C1C(=O)N)[C@H]2[C@@H]([C@@H]([C@H](O2)COP(=O)(O)OP(=O)(O)OC[C@@H]3[C@H]([C@H]([C@@H](O3)N4C=NC5=C4N=CN=C5N)O)O)O)O\n",
       "7  C1C=CN(C=C1C(=O)N)[C@H]2[C@@H]([C@@H]([C@H](O2)COP(=O)(O)OP(=O)(O)OC[C@@H]3[C@H]([C@H]([C@@H](O3)N4C=NC5=C4N=CN=C5N)O)O)O)O\n",
       "8  C1C=CN(C=C1C(=O)N)[C@H]2[C@@H]([C@@H]([C@H](O2)COP(=O)(O)OP(=O)(O)OC[C@@H]3[C@H]([C@H]([C@@H](O3)N4C=NC5=C4N=CN=C5N)O)O)O)O\n",
       "9  C1C=CN(C=C1C(=O)N)[C@H]2[C@@H]([C@@H]([C@H](O2)COP(=O)(O)OP(=O)(O)OC[C@@H]3[C@H]([C@H]([C@@H](O3)N4C=NC5=C4N=CN=C5N)O)O)O)O\n",
       "10 C1C=CN(C=C1C(=O)N)[C@H]2[C@@H]([C@@H]([C@H](O2)COP(=O)(O)OP(=O)(O)OC[C@@H]3[C@H]([C@H]([C@@H](O3)N4C=NC5=C4N=CN=C5N)O)O)O)O\n",
       "   fmcs_info  name\n",
       "1  12.0000000 1   \n",
       "2  16.0000000 1   \n",
       "3  10.0000000 1   \n",
       "4   0.5555556 1   \n",
       "5   0.8333333 1   \n",
       "6  12.0000000 2   \n",
       "7  44.0000000 2   \n",
       "8   8.0000000 2   \n",
       "9   0.1666667 2   \n",
       "10  0.6666667 2   "
      ]
     },
     "metadata": {},
     "output_type": "display_data"
    }
   ],
   "source": [
    "fmcs_test_all <- compare_mol %>% \n",
    "  mutate(fmcs_info = map2(smi1,smi2,~ smiles2fmcs(.x,.y))) \n",
    "\n",
    "fmcs_test_all %>% unnest(fmcs_info, .id = \"name\")"
   ]
  },
  {
   "cell_type": "markdown",
   "metadata": {},
   "source": [
    "# glucose-6-p data\n",
    "\n",
    "below is the data frame which contains compund pairs for `glucose + ATP -> glucose-6-P + ADP` reaction which was successfully mapped with reaction mapper(rdt)"
   ]
  },
  {
   "cell_type": "code",
   "execution_count": 10,
   "metadata": {},
   "outputs": [],
   "source": [
    "glucose <- \"C([CH]1[CH]([CH]([CH](C(O1)O)O)O)O)O\"\n",
    "glucose6p <- \"C([CH]1[CH]([CH]([CH](C(O1)O)O)O)O)OP(=O)(O)O\"\n",
    "atp <- \"c1nc(c2c(n1)n(cn2)[CH]3[CH]([CH]([CH](O3)COP(=O)(O)OP(=O)(O)OP(=O)(O)O)O)O)N\"\n",
    "adp <- \"c1nc(c2c(n1)n(cn2)[CH]3[CH]([CH]([CH](O3)COP(=O)(O)OP(=O)(O)O)O)O)N\"\n",
    "\n",
    "glu_rxn <- tibble(mol1=c(\"gluose\",\"glucose\",\"atp\",\"atp\"),\n",
    "                 mol2=c(\"adp\",\"gluose-6-p\",\"adp\",\"glucose-6-p\"),\n",
    "                 mol1_smi=c(glucose,glucose,atp,atp),\n",
    "                 mol2_smi=c(adp,glucose6p,adp,glucose6p))"
   ]
  },
  {
   "cell_type": "code",
   "execution_count": 11,
   "metadata": {},
   "outputs": [
    {
     "data": {
      "text/html": [
       "<table>\n",
       "<caption>A tibble: 4 × 4</caption>\n",
       "<thead>\n",
       "\t<tr><th scope=col>mol1</th><th scope=col>mol2</th><th scope=col>mol1_smi</th><th scope=col>mol2_smi</th></tr>\n",
       "\t<tr><th scope=col>&lt;chr&gt;</th><th scope=col>&lt;chr&gt;</th><th scope=col>&lt;chr&gt;</th><th scope=col>&lt;chr&gt;</th></tr>\n",
       "</thead>\n",
       "<tbody>\n",
       "\t<tr><td>gluose </td><td>adp        </td><td>C([CH]1[CH]([CH]([CH](C(O1)O)O)O)O)O                                        </td><td>c1nc(c2c(n1)n(cn2)[CH]3[CH]([CH]([CH](O3)COP(=O)(O)OP(=O)(O)O)O)O)N</td></tr>\n",
       "\t<tr><td>glucose</td><td>gluose-6-p </td><td>C([CH]1[CH]([CH]([CH](C(O1)O)O)O)O)O                                        </td><td>C([CH]1[CH]([CH]([CH](C(O1)O)O)O)O)OP(=O)(O)O                      </td></tr>\n",
       "\t<tr><td>atp    </td><td>adp        </td><td>c1nc(c2c(n1)n(cn2)[CH]3[CH]([CH]([CH](O3)COP(=O)(O)OP(=O)(O)OP(=O)(O)O)O)O)N</td><td>c1nc(c2c(n1)n(cn2)[CH]3[CH]([CH]([CH](O3)COP(=O)(O)OP(=O)(O)O)O)O)N</td></tr>\n",
       "\t<tr><td>atp    </td><td>glucose-6-p</td><td>c1nc(c2c(n1)n(cn2)[CH]3[CH]([CH]([CH](O3)COP(=O)(O)OP(=O)(O)OP(=O)(O)O)O)O)N</td><td>C([CH]1[CH]([CH]([CH](C(O1)O)O)O)O)OP(=O)(O)O                      </td></tr>\n",
       "</tbody>\n",
       "</table>\n"
      ],
      "text/latex": [
       "A tibble: 4 × 4\n",
       "\\begin{tabular}{r|llll}\n",
       " mol1 & mol2 & mol1\\_smi & mol2\\_smi\\\\\n",
       " <chr> & <chr> & <chr> & <chr>\\\\\n",
       "\\hline\n",
       "\t gluose  & adp         & C({[}CH{]}1{[}CH{]}({[}CH{]}({[}CH{]}(C(O1)O)O)O)O)O                                         & c1nc(c2c(n1)n(cn2){[}CH{]}3{[}CH{]}({[}CH{]}({[}CH{]}(O3)COP(=O)(O)OP(=O)(O)O)O)O)N\\\\\n",
       "\t glucose & gluose-6-p  & C({[}CH{]}1{[}CH{]}({[}CH{]}({[}CH{]}(C(O1)O)O)O)O)O                                         & C({[}CH{]}1{[}CH{]}({[}CH{]}({[}CH{]}(C(O1)O)O)O)O)OP(=O)(O)O                      \\\\\n",
       "\t atp     & adp         & c1nc(c2c(n1)n(cn2){[}CH{]}3{[}CH{]}({[}CH{]}({[}CH{]}(O3)COP(=O)(O)OP(=O)(O)OP(=O)(O)O)O)O)N & c1nc(c2c(n1)n(cn2){[}CH{]}3{[}CH{]}({[}CH{]}({[}CH{]}(O3)COP(=O)(O)OP(=O)(O)O)O)O)N\\\\\n",
       "\t atp     & glucose-6-p & c1nc(c2c(n1)n(cn2){[}CH{]}3{[}CH{]}({[}CH{]}({[}CH{]}(O3)COP(=O)(O)OP(=O)(O)OP(=O)(O)O)O)O)N & C({[}CH{]}1{[}CH{]}({[}CH{]}({[}CH{]}(C(O1)O)O)O)O)OP(=O)(O)O                      \\\\\n",
       "\\end{tabular}\n"
      ],
      "text/markdown": [
       "\n",
       "A tibble: 4 × 4\n",
       "\n",
       "| mol1 &lt;chr&gt; | mol2 &lt;chr&gt; | mol1_smi &lt;chr&gt; | mol2_smi &lt;chr&gt; |\n",
       "|---|---|---|---|\n",
       "| gluose  | adp         | C([CH]1[CH]([CH]([CH](C(O1)O)O)O)O)O                                         | c1nc(c2c(n1)n(cn2)[CH]3[CH]([CH]([CH](O3)COP(=O)(O)OP(=O)(O)O)O)O)N |\n",
       "| glucose | gluose-6-p  | C([CH]1[CH]([CH]([CH](C(O1)O)O)O)O)O                                         | C([CH]1[CH]([CH]([CH](C(O1)O)O)O)O)OP(=O)(O)O                       |\n",
       "| atp     | adp         | c1nc(c2c(n1)n(cn2)[CH]3[CH]([CH]([CH](O3)COP(=O)(O)OP(=O)(O)OP(=O)(O)O)O)O)N | c1nc(c2c(n1)n(cn2)[CH]3[CH]([CH]([CH](O3)COP(=O)(O)OP(=O)(O)O)O)O)N |\n",
       "| atp     | glucose-6-p | c1nc(c2c(n1)n(cn2)[CH]3[CH]([CH]([CH](O3)COP(=O)(O)OP(=O)(O)OP(=O)(O)O)O)O)N | C([CH]1[CH]([CH]([CH](C(O1)O)O)O)O)OP(=O)(O)O                       |\n",
       "\n"
      ],
      "text/plain": [
       "  mol1    mol2       \n",
       "1 gluose  adp        \n",
       "2 glucose gluose-6-p \n",
       "3 atp     adp        \n",
       "4 atp     glucose-6-p\n",
       "  mol1_smi                                                                    \n",
       "1 C([CH]1[CH]([CH]([CH](C(O1)O)O)O)O)O                                        \n",
       "2 C([CH]1[CH]([CH]([CH](C(O1)O)O)O)O)O                                        \n",
       "3 c1nc(c2c(n1)n(cn2)[CH]3[CH]([CH]([CH](O3)COP(=O)(O)OP(=O)(O)OP(=O)(O)O)O)O)N\n",
       "4 c1nc(c2c(n1)n(cn2)[CH]3[CH]([CH]([CH](O3)COP(=O)(O)OP(=O)(O)OP(=O)(O)O)O)O)N\n",
       "  mol2_smi                                                           \n",
       "1 c1nc(c2c(n1)n(cn2)[CH]3[CH]([CH]([CH](O3)COP(=O)(O)OP(=O)(O)O)O)O)N\n",
       "2 C([CH]1[CH]([CH]([CH](C(O1)O)O)O)O)OP(=O)(O)O                      \n",
       "3 c1nc(c2c(n1)n(cn2)[CH]3[CH]([CH]([CH](O3)COP(=O)(O)OP(=O)(O)O)O)O)N\n",
       "4 C([CH]1[CH]([CH]([CH](C(O1)O)O)O)O)OP(=O)(O)O                      "
      ]
     },
     "metadata": {},
     "output_type": "display_data"
    }
   ],
   "source": [
    "glu_rxn"
   ]
  },
  {
   "cell_type": "markdown",
   "metadata": {},
   "source": [
    "Below is the output of rdt\n",
    "```\n",
    "# rdt output\n",
    "C([CH]1[CH]([CH]([CH](C(O1)O)O)O)O)O.c1nc(c2c(n1)n(cn2)[CH]3[CH]([CH]([CH](O3)COP(=O)(O)OP(=O)(O)OP(=O)(O)O)O)O)N>>C([CH]1[CH]([CH]([CH](C(O1)O)O)O)O)OP(=O)(O)O.c1nc(c2c(n1)n(cn2)[CH]3[CH]([CH]([CH](O3)COP(=O)(O)OP(=O)(O)O)O)O)N\n",
    "\n",
    "[O:1]=[P:2]([OH:3])([OH:4])[O:5][P:6](=[O:7])([OH:8])[O:9][P:10](=[O:11])([OH:12])[O:13][CH2:14][CH:15]1[O:16][CH:17]([n:18]2[cH:19][n:20][c:21]3[c:22]([n:23][cH:24][n:25][c:26]23)[NH2:27])[CH:28]([OH:29])[CH:30]1[OH:31]\n",
    ".\n",
    "[OH:32][CH2:33][CH:34]1[O:35][CH:36]([OH:37])[CH:38]([OH:39])[CH:40]([OH:41])[CH:42]1[OH:43]\n",
    ">>\n",
    "[OH:5][P:6](=[O:7])([OH:8])[O:9][P:10](=[O:11])([OH:12])[O:13][CH2:14][CH:15]1[O:16][CH:17]([n:18]2[cH:19][n:20][c:21]3[c:22]([n:23][cH:24][n:25][c:26]23)[NH2:27])[CH:28]([OH:29])[CH:30]1[OH:31]\n",
    ".\n",
    "[O:1]=[P:2]([OH:3])([OH:4])[O:32][CH2:33][CH:34]1[O:35][CH:36]([OH:37])[CH:38]([OH:39])[CH:40]([OH:41])[CH:42]1[OH:43]\n",
    "```"
   ]
  },
  {
   "cell_type": "code",
   "execution_count": null,
   "metadata": {},
   "outputs": [],
   "source": []
  }
 ],
 "metadata": {
  "kernelspec": {
   "display_name": "R",
   "language": "R",
   "name": "ir"
  },
  "language_info": {
   "codemirror_mode": "r",
   "file_extension": ".r",
   "mimetype": "text/x-r-source",
   "name": "R",
   "pygments_lexer": "r",
   "version": "3.4.4"
  }
 },
 "nbformat": 4,
 "nbformat_minor": 2
}

