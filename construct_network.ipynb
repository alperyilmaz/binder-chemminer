{
 "cells": [
  {
   "cell_type": "markdown",
   "metadata": {},
   "source": [
    "# Constructing network from metanetx"
   ]
  },
  {
   "cell_type": "code",
   "execution_count": 1,
   "metadata": {},
   "outputs": [
    {
     "name": "stderr",
     "output_type": "stream",
     "text": [
      "── Attaching packages ─────────────────────────────────────── tidyverse 1.2.1 ──\n",
      "✔ ggplot2 3.1.0       ✔ purrr   0.3.0  \n",
      "✔ tibble  2.0.1       ✔ dplyr   0.8.0.1\n",
      "✔ tidyr   0.8.2       ✔ stringr 1.4.0  \n",
      "✔ readr   1.3.1       ✔ forcats 0.4.0  \n",
      "── Conflicts ────────────────────────────────────────── tidyverse_conflicts() ──\n",
      "✖ dplyr::filter() masks stats::filter()\n",
      "✖ dplyr::lag()    masks stats::lag()\n",
      "\n",
      "Attaching package: ‘igraph’\n",
      "\n",
      "The following objects are masked from ‘package:dplyr’:\n",
      "\n",
      "    as_data_frame, groups, union\n",
      "\n",
      "The following objects are masked from ‘package:purrr’:\n",
      "\n",
      "    compose, simplify\n",
      "\n",
      "The following object is masked from ‘package:tidyr’:\n",
      "\n",
      "    crossing\n",
      "\n",
      "The following object is masked from ‘package:tibble’:\n",
      "\n",
      "    as_data_frame\n",
      "\n",
      "The following objects are masked from ‘package:stats’:\n",
      "\n",
      "    decompose, spectrum\n",
      "\n",
      "The following object is masked from ‘package:base’:\n",
      "\n",
      "    union\n",
      "\n",
      "\n",
      "Attaching package: ‘tidygraph’\n",
      "\n",
      "The following object is masked from ‘package:igraph’:\n",
      "\n",
      "    groups\n",
      "\n",
      "The following object is masked from ‘package:stats’:\n",
      "\n",
      "    filter\n",
      "\n"
     ]
    },
    {
     "ename": "ERROR",
     "evalue": "Error in library(DT): there is no package called ‘DT’\n",
     "execution_count": 1,
     "output_type": "error",
     "traceback": [
      "Error in library(DT): there is no package called ‘DT’\nTraceback:\n",
      "1. library(DT)",
      "2. stop(txt, domain = NA)"
     ]
    }
   ],
   "source": [
    "library(tidyverse)\n",
    "library(readxl)\n",
    "library(stringr)\n",
    "library(igraph)\n",
    "library(tidygraph)\n",
    "library(DT)\n",
    "library(ChemmineR)"
   ]
  },
  {
   "cell_type": "markdown",
   "metadata": {},
   "source": [
    "## import data"
   ]
  },
  {
   "cell_type": "code",
   "execution_count": 3,
   "metadata": {},
   "outputs": [
    {
     "name": "stderr",
     "output_type": "stream",
     "text": [
      "Parsed with column specification:\n",
      "cols(\n",
      "  MNX_ID = col_character(),\n",
      "  Equation = col_character(),\n",
      "  Description = col_character(),\n",
      "  Balance = col_character(),\n",
      "  EC = col_character(),\n",
      "  Source = col_character()\n",
      ")\n"
     ]
    },
    {
     "data": {
      "text/html": [
       "<table>\n",
       "<thead><tr><th scope=col>MNX_ID</th><th scope=col>Equation</th><th scope=col>Description</th><th scope=col>Balance</th><th scope=col>EC</th><th scope=col>Source</th></tr></thead>\n",
       "<tbody>\n",
       "\t<tr><td>MNXR01                                                                 </td><td>1 MNXM01@MNXD1 = 1 MNXM1@MNXD1                                         </td><td>1 `H(+)` = 1 `H(+)`                                                    </td><td>true                                                                   </td><td>NA                                                                     </td><td>MNXR01                                                                 </td></tr>\n",
       "\t<tr><td>MNXR94667                                                              </td><td>1 BIOMASS@MNXD1 = 1 BIOMASS@BOUNDARY                                   </td><td>1 `Biomass` = 1 `Biomass`                                              </td><td>true                                                                   </td><td>NA                                                                     </td><td>BIOMASS_EXT                                                            </td></tr>\n",
       "\t<tr><td>MNXR94668                                                              </td><td>1 MNXM3428@MNXD1 = 1 MNXM3428@MNXD2                                    </td><td>1 `10fthf5glu` = 1 `10fthf5glu`                                        </td><td>true                                                                   </td><td>NA                                                                     </td><td>bigg:10FTHF5GLUtl                                                      </td></tr>\n",
       "\t<tr><td>MNXR94669                                                              </td><td>1 MNXM3429@MNXD1 = 1 MNXM3429@MNXD2                                    </td><td>1 `10fthf6glu` = 1 `10fthf6glu`                                        </td><td>true                                                                   </td><td>NA                                                                     </td><td>bigg:10FTHF6GLUtl                                                      </td></tr>\n",
       "\t<tr><td>MNXR94670                                                              </td><td>1 MNXM5422@MNXD1 = 1 MNXM5422@MNXD2                                    </td><td>1 `10fthf7glu` = 1 `10fthf7glu`                                        </td><td>true                                                                   </td><td>NA                                                                     </td><td>bigg:10FTHF7GLUtl                                                      </td></tr>\n",
       "\t<tr><td>MNXR94672                                                              </td><td>1 MNXM237@MNXD1 = 1 MNXM237@MNXD2                                      </td><td>1 `(6S)-10-formyltetrahydrofolate` = 1 `(6S)-10-formyltetrahydrofolate`</td><td>true                                                                   </td><td>NA                                                                     </td><td>bigg:10FTHFtl                                                          </td></tr>\n",
       "</tbody>\n",
       "</table>\n"
      ],
      "text/latex": [
       "\\begin{tabular}{r|llllll}\n",
       " MNX\\_ID & Equation & Description & Balance & EC & Source\\\\\n",
       "\\hline\n",
       "\t MNXR01                                                                  & 1 MNXM01@MNXD1 = 1 MNXM1@MNXD1                                          & 1 `H(+)` = 1 `H(+)`                                                     & true                                                                    & NA                                                                      & MNXR01                                                                 \\\\\n",
       "\t MNXR94667                                                               & 1 BIOMASS@MNXD1 = 1 BIOMASS@BOUNDARY                                    & 1 `Biomass` = 1 `Biomass`                                               & true                                                                    & NA                                                                      & BIOMASS\\_EXT                                                          \\\\\n",
       "\t MNXR94668                                                               & 1 MNXM3428@MNXD1 = 1 MNXM3428@MNXD2                                     & 1 `10fthf5glu` = 1 `10fthf5glu`                                         & true                                                                    & NA                                                                      & bigg:10FTHF5GLUtl                                                      \\\\\n",
       "\t MNXR94669                                                               & 1 MNXM3429@MNXD1 = 1 MNXM3429@MNXD2                                     & 1 `10fthf6glu` = 1 `10fthf6glu`                                         & true                                                                    & NA                                                                      & bigg:10FTHF6GLUtl                                                      \\\\\n",
       "\t MNXR94670                                                               & 1 MNXM5422@MNXD1 = 1 MNXM5422@MNXD2                                     & 1 `10fthf7glu` = 1 `10fthf7glu`                                         & true                                                                    & NA                                                                      & bigg:10FTHF7GLUtl                                                      \\\\\n",
       "\t MNXR94672                                                               & 1 MNXM237@MNXD1 = 1 MNXM237@MNXD2                                       & 1 `(6S)-10-formyltetrahydrofolate` = 1 `(6S)-10-formyltetrahydrofolate` & true                                                                    & NA                                                                      & bigg:10FTHFtl                                                          \\\\\n",
       "\\end{tabular}\n"
      ],
      "text/markdown": [
       "\n",
       "| MNX_ID | Equation | Description | Balance | EC | Source |\n",
       "|---|---|---|---|---|---|\n",
       "| MNXR01                                                                  | 1 MNXM01@MNXD1 = 1 MNXM1@MNXD1                                          | 1 `H(+)` = 1 `H(+)`                                                     | true                                                                    | NA                                                                      | MNXR01                                                                  |\n",
       "| MNXR94667                                                               | 1 BIOMASS@MNXD1 = 1 BIOMASS@BOUNDARY                                    | 1 `Biomass` = 1 `Biomass`                                               | true                                                                    | NA                                                                      | BIOMASS_EXT                                                             |\n",
       "| MNXR94668                                                               | 1 MNXM3428@MNXD1 = 1 MNXM3428@MNXD2                                     | 1 `10fthf5glu` = 1 `10fthf5glu`                                         | true                                                                    | NA                                                                      | bigg:10FTHF5GLUtl                                                       |\n",
       "| MNXR94669                                                               | 1 MNXM3429@MNXD1 = 1 MNXM3429@MNXD2                                     | 1 `10fthf6glu` = 1 `10fthf6glu`                                         | true                                                                    | NA                                                                      | bigg:10FTHF6GLUtl                                                       |\n",
       "| MNXR94670                                                               | 1 MNXM5422@MNXD1 = 1 MNXM5422@MNXD2                                     | 1 `10fthf7glu` = 1 `10fthf7glu`                                         | true                                                                    | NA                                                                      | bigg:10FTHF7GLUtl                                                       |\n",
       "| MNXR94672                                                               | 1 MNXM237@MNXD1 = 1 MNXM237@MNXD2                                       | 1 `(6S)-10-formyltetrahydrofolate` = 1 `(6S)-10-formyltetrahydrofolate` | true                                                                    | NA                                                                      | bigg:10FTHFtl                                                           |\n",
       "\n"
      ],
      "text/plain": [
       "  MNX_ID    Equation                            \n",
       "1 MNXR01    1 MNXM01@MNXD1 = 1 MNXM1@MNXD1      \n",
       "2 MNXR94667 1 BIOMASS@MNXD1 = 1 BIOMASS@BOUNDARY\n",
       "3 MNXR94668 1 MNXM3428@MNXD1 = 1 MNXM3428@MNXD2 \n",
       "4 MNXR94669 1 MNXM3429@MNXD1 = 1 MNXM3429@MNXD2 \n",
       "5 MNXR94670 1 MNXM5422@MNXD1 = 1 MNXM5422@MNXD2 \n",
       "6 MNXR94672 1 MNXM237@MNXD1 = 1 MNXM237@MNXD2   \n",
       "  Description                                                            \n",
       "1 1 `H(+)` = 1 `H(+)`                                                    \n",
       "2 1 `Biomass` = 1 `Biomass`                                              \n",
       "3 1 `10fthf5glu` = 1 `10fthf5glu`                                        \n",
       "4 1 `10fthf6glu` = 1 `10fthf6glu`                                        \n",
       "5 1 `10fthf7glu` = 1 `10fthf7glu`                                        \n",
       "6 1 `(6S)-10-formyltetrahydrofolate` = 1 `(6S)-10-formyltetrahydrofolate`\n",
       "  Balance EC Source           \n",
       "1 true    NA MNXR01           \n",
       "2 true    NA BIOMASS_EXT      \n",
       "3 true    NA bigg:10FTHF5GLUtl\n",
       "4 true    NA bigg:10FTHF6GLUtl\n",
       "5 true    NA bigg:10FTHF7GLUtl\n",
       "6 true    NA bigg:10FTHFtl    "
      ]
     },
     "metadata": {},
     "output_type": "display_data"
    }
   ],
   "source": [
    "reactions <- read_tsv(\"reac_prop.tsv.gz\", comment = \"#\") %>% \n",
    "  select_if(~ any(!is.na(.)))\n",
    "\n",
    "reactions %>% head()"
   ]
  },
  {
   "cell_type": "code",
   "execution_count": 4,
   "metadata": {},
   "outputs": [
    {
     "name": "stderr",
     "output_type": "stream",
     "text": [
      "Parsed with column specification:\n",
      "cols(\n",
      "  MNX_ID = col_character(),\n",
      "  Description = col_character(),\n",
      "  Formula = col_character(),\n",
      "  Charge = col_double(),\n",
      "  Mass = col_double(),\n",
      "  InChI = col_character(),\n",
      "  SMILES = col_character(),\n",
      "  Source = col_character(),\n",
      "  InChIKey = col_character()\n",
      ")\n"
     ]
    },
    {
     "data": {
      "text/html": [
       "<table>\n",
       "<thead><tr><th scope=col>MNX_ID</th><th scope=col>name</th><th scope=col>Formula</th><th scope=col>Charge</th><th scope=col>Mass</th><th scope=col>InChI</th><th scope=col>SMILES</th><th scope=col>Source</th><th scope=col>InChIKey</th></tr></thead>\n",
       "<tbody>\n",
       "\t<tr><td>MNXM0                                                                                                                                                                                                         </td><td>molecular entity                                                                                                                                                                                              </td><td>NA                                                                                                                                                                                                            </td><td>NA                                                                                                                                                                                                            </td><td>       NA                                                                                                                                                                                                     </td><td>NA                                                                                                                                                                                                            </td><td>NA                                                                                                                                                                                                            </td><td>chebi:23367                                                                                                                                                                                                   </td><td>NA                                                                                                                                                                                                            </td></tr>\n",
       "\t<tr><td>MNXM01                                                                                                                                                                                                        </td><td>H(+)                                                                                                                                                                                                          </td><td>H                                                                                                                                                                                                             </td><td> 1                                                                                                                                                                                                            </td><td>  1.00794                                                                                                                                                                                                     </td><td>InChI=1S/p+1                                                                                                                                                                                                  </td><td>[H+]                                                                                                                                                                                                          </td><td>MNXM01                                                                                                                                                                                                        </td><td>GPRLSGONYQIRFK-UHFFFAOYSA-N                                                                                                                                                                                   </td></tr>\n",
       "\t<tr><td>MNXM1                                                                                                                                                                                                         </td><td>H(+)                                                                                                                                                                                                          </td><td>H                                                                                                                                                                                                             </td><td> 1                                                                                                                                                                                                            </td><td>  1.00739                                                                                                                                                                                                     </td><td>InChI=1S/p+1                                                                                                                                                                                                  </td><td>[H+]                                                                                                                                                                                                          </td><td>chebi:15378                                                                                                                                                                                                   </td><td>GPRLSGONYQIRFK-UHFFFAOYSA-N                                                                                                                                                                                   </td></tr>\n",
       "\t<tr><td>MNXM2                                                                                                                                                                                                         </td><td>H2O                                                                                                                                                                                                           </td><td>H2O                                                                                                                                                                                                           </td><td> 0                                                                                                                                                                                                            </td><td> 18.01530                                                                                                                                                                                                     </td><td>InChI=1S/H2O/h1H2                                                                                                                                                                                             </td><td>[H]O[H]                                                                                                                                                                                                       </td><td>chebi:15377                                                                                                                                                                                                   </td><td>XLYOFNOQVPJJNP-UHFFFAOYSA-N                                                                                                                                                                                   </td></tr>\n",
       "\t<tr><td>MNXM3                                                                                                                                                                                                         </td><td>ATP                                                                                                                                                                                                           </td><td>C10H12N5O13P3                                                                                                                                                                                                 </td><td>-4                                                                                                                                                                                                            </td><td>503.15150                                                                                                                                                                                                     </td><td>InChI=1S/C10H16N5O13P3/c11-8-5-9(13-2-12-8)15(3-14-5)10-7(17)6(16)4(26-10)1-25-30(21,22)28-31(23,24)27-29(18,19)20/h2-4,6-7,10,16-17H,1H2,(H,21,22)(H,23,24)(H2,11,12,13)(H2,18,19,20)/p-4/t4-,6-,7-,10-/m1/s1</td><td>Nc1ncnc2n(cnc12)[C@@H]1O[C@H](COP([O-])(=O)OP([O-])(=O)OP([O-])([O-])=O)[C@@H](O)[C@H]1O                                                                                                                      </td><td>chebi:30616                                                                                                                                                                                                   </td><td>ZKHQWZAMYRWXGA-KQYNXXCUSA-J                                                                                                                                                                                   </td></tr>\n",
       "\t<tr><td>MNXM4                                                                                                                                                                                                         </td><td>O2                                                                                                                                                                                                            </td><td>O2                                                                                                                                                                                                            </td><td> 0                                                                                                                                                                                                            </td><td> 31.99880                                                                                                                                                                                                     </td><td>InChI=1S/O2/c1-2                                                                                                                                                                                              </td><td>O=O                                                                                                                                                                                                           </td><td>chebi:15379                                                                                                                                                                                                   </td><td>MYMOFIZGZYHOMD-UHFFFAOYSA-N                                                                                                                                                                                   </td></tr>\n",
       "</tbody>\n",
       "</table>\n"
      ],
      "text/latex": [
       "\\begin{tabular}{r|lllllllll}\n",
       " MNX\\_ID & name & Formula & Charge & Mass & InChI & SMILES & Source & InChIKey\\\\\n",
       "\\hline\n",
       "\t MNXM0                                                                                                                                                                                                          & molecular entity                                                                                                                                                                                               & NA                                                                                                                                                                                                             & NA                                                                                                                                                                                                             &        NA                                                                                                                                                                                                      & NA                                                                                                                                                                                                             & NA                                                                                                                                                                                                             & chebi:23367                                                                                                                                                                                                    & NA                                                                                                                                                                                                            \\\\\n",
       "\t MNXM01                                                                                                                                                                                                         & H(+)                                                                                                                                                                                                           & H                                                                                                                                                                                                              &  1                                                                                                                                                                                                             &   1.00794                                                                                                                                                                                                      & InChI=1S/p+1                                                                                                                                                                                                   & {[}H+{]}                                                                                                                                                                                                       & MNXM01                                                                                                                                                                                                         & GPRLSGONYQIRFK-UHFFFAOYSA-N                                                                                                                                                                                   \\\\\n",
       "\t MNXM1                                                                                                                                                                                                          & H(+)                                                                                                                                                                                                           & H                                                                                                                                                                                                              &  1                                                                                                                                                                                                             &   1.00739                                                                                                                                                                                                      & InChI=1S/p+1                                                                                                                                                                                                   & {[}H+{]}                                                                                                                                                                                                       & chebi:15378                                                                                                                                                                                                    & GPRLSGONYQIRFK-UHFFFAOYSA-N                                                                                                                                                                                   \\\\\n",
       "\t MNXM2                                                                                                                                                                                                          & H2O                                                                                                                                                                                                            & H2O                                                                                                                                                                                                            &  0                                                                                                                                                                                                             &  18.01530                                                                                                                                                                                                      & InChI=1S/H2O/h1H2                                                                                                                                                                                              & {[}H{]}O{[}H{]}                                                                                                                                                                                                & chebi:15377                                                                                                                                                                                                    & XLYOFNOQVPJJNP-UHFFFAOYSA-N                                                                                                                                                                                   \\\\\n",
       "\t MNXM3                                                                                                                                                                                                          & ATP                                                                                                                                                                                                            & C10H12N5O13P3                                                                                                                                                                                                  & -4                                                                                                                                                                                                             & 503.15150                                                                                                                                                                                                      & InChI=1S/C10H16N5O13P3/c11-8-5-9(13-2-12-8)15(3-14-5)10-7(17)6(16)4(26-10)1-25-30(21,22)28-31(23,24)27-29(18,19)20/h2-4,6-7,10,16-17H,1H2,(H,21,22)(H,23,24)(H2,11,12,13)(H2,18,19,20)/p-4/t4-,6-,7-,10-/m1/s1 & Nc1ncnc2n(cnc12){[}C@@H{]}1O{[}C@H{]}(COP({[}O-{]})(=O)OP({[}O-{]})(=O)OP({[}O-{]})({[}O-{]})=O){[}C@@H{]}(O){[}C@H{]}1O                                                                                       & chebi:30616                                                                                                                                                                                                    & ZKHQWZAMYRWXGA-KQYNXXCUSA-J                                                                                                                                                                                   \\\\\n",
       "\t MNXM4                                                                                                                                                                                                          & O2                                                                                                                                                                                                             & O2                                                                                                                                                                                                             &  0                                                                                                                                                                                                             &  31.99880                                                                                                                                                                                                      & InChI=1S/O2/c1-2                                                                                                                                                                                               & O=O                                                                                                                                                                                                            & chebi:15379                                                                                                                                                                                                    & MYMOFIZGZYHOMD-UHFFFAOYSA-N                                                                                                                                                                                   \\\\\n",
       "\\end{tabular}\n"
      ],
      "text/markdown": [
       "\n",
       "| MNX_ID | name | Formula | Charge | Mass | InChI | SMILES | Source | InChIKey |\n",
       "|---|---|---|---|---|---|---|---|---|\n",
       "| MNXM0                                                                                                                                                                                                          | molecular entity                                                                                                                                                                                               | NA                                                                                                                                                                                                             | NA                                                                                                                                                                                                             |        NA                                                                                                                                                                                                      | NA                                                                                                                                                                                                             | NA                                                                                                                                                                                                             | chebi:23367                                                                                                                                                                                                    | NA                                                                                                                                                                                                             |\n",
       "| MNXM01                                                                                                                                                                                                         | H(+)                                                                                                                                                                                                           | H                                                                                                                                                                                                              |  1                                                                                                                                                                                                             |   1.00794                                                                                                                                                                                                      | InChI=1S/p+1                                                                                                                                                                                                   | [H+]                                                                                                                                                                                                           | MNXM01                                                                                                                                                                                                         | GPRLSGONYQIRFK-UHFFFAOYSA-N                                                                                                                                                                                    |\n",
       "| MNXM1                                                                                                                                                                                                          | H(+)                                                                                                                                                                                                           | H                                                                                                                                                                                                              |  1                                                                                                                                                                                                             |   1.00739                                                                                                                                                                                                      | InChI=1S/p+1                                                                                                                                                                                                   | [H+]                                                                                                                                                                                                           | chebi:15378                                                                                                                                                                                                    | GPRLSGONYQIRFK-UHFFFAOYSA-N                                                                                                                                                                                    |\n",
       "| MNXM2                                                                                                                                                                                                          | H2O                                                                                                                                                                                                            | H2O                                                                                                                                                                                                            |  0                                                                                                                                                                                                             |  18.01530                                                                                                                                                                                                      | InChI=1S/H2O/h1H2                                                                                                                                                                                              | [H]O[H]                                                                                                                                                                                                        | chebi:15377                                                                                                                                                                                                    | XLYOFNOQVPJJNP-UHFFFAOYSA-N                                                                                                                                                                                    |\n",
       "| MNXM3                                                                                                                                                                                                          | ATP                                                                                                                                                                                                            | C10H12N5O13P3                                                                                                                                                                                                  | -4                                                                                                                                                                                                             | 503.15150                                                                                                                                                                                                      | InChI=1S/C10H16N5O13P3/c11-8-5-9(13-2-12-8)15(3-14-5)10-7(17)6(16)4(26-10)1-25-30(21,22)28-31(23,24)27-29(18,19)20/h2-4,6-7,10,16-17H,1H2,(H,21,22)(H,23,24)(H2,11,12,13)(H2,18,19,20)/p-4/t4-,6-,7-,10-/m1/s1 | Nc1ncnc2n(cnc12)[C@@H]1O[C@H](COP([O-])(=O)OP([O-])(=O)OP([O-])([O-])=O)[C@@H](O)[C@H]1O                                                                                                                       | chebi:30616                                                                                                                                                                                                    | ZKHQWZAMYRWXGA-KQYNXXCUSA-J                                                                                                                                                                                    |\n",
       "| MNXM4                                                                                                                                                                                                          | O2                                                                                                                                                                                                             | O2                                                                                                                                                                                                             |  0                                                                                                                                                                                                             |  31.99880                                                                                                                                                                                                      | InChI=1S/O2/c1-2                                                                                                                                                                                               | O=O                                                                                                                                                                                                            | chebi:15379                                                                                                                                                                                                    | MYMOFIZGZYHOMD-UHFFFAOYSA-N                                                                                                                                                                                    |\n",
       "\n"
      ],
      "text/plain": [
       "  MNX_ID name             Formula       Charge Mass     \n",
       "1 MNXM0  molecular entity NA            NA            NA\n",
       "2 MNXM01 H(+)             H              1       1.00794\n",
       "3 MNXM1  H(+)             H              1       1.00739\n",
       "4 MNXM2  H2O              H2O            0      18.01530\n",
       "5 MNXM3  ATP              C10H12N5O13P3 -4     503.15150\n",
       "6 MNXM4  O2               O2             0      31.99880\n",
       "  InChI                                                                                                                                                                                                         \n",
       "1 NA                                                                                                                                                                                                            \n",
       "2 InChI=1S/p+1                                                                                                                                                                                                  \n",
       "3 InChI=1S/p+1                                                                                                                                                                                                  \n",
       "4 InChI=1S/H2O/h1H2                                                                                                                                                                                             \n",
       "5 InChI=1S/C10H16N5O13P3/c11-8-5-9(13-2-12-8)15(3-14-5)10-7(17)6(16)4(26-10)1-25-30(21,22)28-31(23,24)27-29(18,19)20/h2-4,6-7,10,16-17H,1H2,(H,21,22)(H,23,24)(H2,11,12,13)(H2,18,19,20)/p-4/t4-,6-,7-,10-/m1/s1\n",
       "6 InChI=1S/O2/c1-2                                                                                                                                                                                              \n",
       "  SMILES                                                                                  \n",
       "1 NA                                                                                      \n",
       "2 [H+]                                                                                    \n",
       "3 [H+]                                                                                    \n",
       "4 [H]O[H]                                                                                 \n",
       "5 Nc1ncnc2n(cnc12)[C@@H]1O[C@H](COP([O-])(=O)OP([O-])(=O)OP([O-])([O-])=O)[C@@H](O)[C@H]1O\n",
       "6 O=O                                                                                     \n",
       "  Source      InChIKey                   \n",
       "1 chebi:23367 NA                         \n",
       "2 MNXM01      GPRLSGONYQIRFK-UHFFFAOYSA-N\n",
       "3 chebi:15378 GPRLSGONYQIRFK-UHFFFAOYSA-N\n",
       "4 chebi:15377 XLYOFNOQVPJJNP-UHFFFAOYSA-N\n",
       "5 chebi:30616 ZKHQWZAMYRWXGA-KQYNXXCUSA-J\n",
       "6 chebi:15379 MYMOFIZGZYHOMD-UHFFFAOYSA-N"
      ]
     },
     "metadata": {},
     "output_type": "display_data"
    }
   ],
   "source": [
    "chem_prop <- read_tsv(\"chem_prop_used2.tsv.gz\") %>% \n",
    "  rename(\"name\" = \"Description\")\n",
    "\n",
    "chem_prop %>% head()"
   ]
  },
  {
   "cell_type": "code",
   "execution_count": 5,
   "metadata": {},
   "outputs": [
    {
     "name": "stderr",
     "output_type": "stream",
     "text": [
      "Parsed with column specification:\n",
      "cols(\n",
      "  MNX_ID = col_character(),\n",
      "  validity = col_logical()\n",
      ")\n"
     ]
    },
    {
     "data": {
      "text/html": [
       "<table>\n",
       "<thead><tr><th scope=col>MNX_ID</th><th scope=col>validity</th></tr></thead>\n",
       "<tbody>\n",
       "\t<tr><td>MNXM01</td><td>FALSE </td></tr>\n",
       "\t<tr><td>MNXM1 </td><td>FALSE </td></tr>\n",
       "\t<tr><td>MNXM2 </td><td> TRUE </td></tr>\n",
       "\t<tr><td>MNXM3 </td><td> TRUE </td></tr>\n",
       "\t<tr><td>MNXM4 </td><td> TRUE </td></tr>\n",
       "\t<tr><td>MNXM5 </td><td> TRUE </td></tr>\n",
       "</tbody>\n",
       "</table>\n"
      ],
      "text/latex": [
       "\\begin{tabular}{r|ll}\n",
       " MNX\\_ID & validity\\\\\n",
       "\\hline\n",
       "\t MNXM01 & FALSE \\\\\n",
       "\t MNXM1  & FALSE \\\\\n",
       "\t MNXM2  &  TRUE \\\\\n",
       "\t MNXM3  &  TRUE \\\\\n",
       "\t MNXM4  &  TRUE \\\\\n",
       "\t MNXM5  &  TRUE \\\\\n",
       "\\end{tabular}\n"
      ],
      "text/markdown": [
       "\n",
       "| MNX_ID | validity |\n",
       "|---|---|\n",
       "| MNXM01 | FALSE  |\n",
       "| MNXM1  | FALSE  |\n",
       "| MNXM2  |  TRUE  |\n",
       "| MNXM3  |  TRUE  |\n",
       "| MNXM4  |  TRUE  |\n",
       "| MNXM5  |  TRUE  |\n",
       "\n"
      ],
      "text/plain": [
       "  MNX_ID validity\n",
       "1 MNXM01 FALSE   \n",
       "2 MNXM1  FALSE   \n",
       "3 MNXM2   TRUE   \n",
       "4 MNXM3   TRUE   \n",
       "5 MNXM4   TRUE   \n",
       "6 MNXM5   TRUE   "
      ]
     },
     "metadata": {},
     "output_type": "display_data"
    }
   ],
   "source": [
    "valid_chem <- read_tsv(\"all_chem_lt1400_validity.tsv.gz\")\n",
    "\n",
    "valid_chem %>% head()"
   ]
  },
  {
   "cell_type": "markdown",
   "metadata": {},
   "source": [
    "# construct network"
   ]
  },
  {
   "cell_type": "code",
   "execution_count": 6,
   "metadata": {},
   "outputs": [
    {
     "data": {
      "text/html": [
       "<table>\n",
       "<thead><tr><th scope=col>MNX_ID</th><th scope=col>Left</th><th scope=col>Right</th><th scope=col>Balance</th><th scope=col>reversible</th></tr></thead>\n",
       "<tbody>\n",
       "\t<tr><td>MNXR01            </td><td>1 MNXM01@MNXD1    </td><td>1 MNXM1@MNXD1     </td><td>true              </td><td>TRUE              </td></tr>\n",
       "\t<tr><td>MNXR94667         </td><td>1 BIOMASS@MNXD1   </td><td>1 BIOMASS@BOUNDARY</td><td>true              </td><td>TRUE              </td></tr>\n",
       "\t<tr><td>MNXR94668         </td><td>1 MNXM3428@MNXD1  </td><td>1 MNXM3428@MNXD2  </td><td>true              </td><td>TRUE              </td></tr>\n",
       "\t<tr><td>MNXR94669         </td><td>1 MNXM3429@MNXD1  </td><td>1 MNXM3429@MNXD2  </td><td>true              </td><td>TRUE              </td></tr>\n",
       "\t<tr><td>MNXR94670         </td><td>1 MNXM5422@MNXD1  </td><td>1 MNXM5422@MNXD2  </td><td>true              </td><td>TRUE              </td></tr>\n",
       "\t<tr><td>MNXR94672         </td><td>1 MNXM237@MNXD1   </td><td>1 MNXM237@MNXD2   </td><td>true              </td><td>TRUE              </td></tr>\n",
       "</tbody>\n",
       "</table>\n"
      ],
      "text/latex": [
       "\\begin{tabular}{r|lllll}\n",
       " MNX\\_ID & Left & Right & Balance & reversible\\\\\n",
       "\\hline\n",
       "\t MNXR01             & 1 MNXM01@MNXD1     & 1 MNXM1@MNXD1      & true               & TRUE              \\\\\n",
       "\t MNXR94667          & 1 BIOMASS@MNXD1    & 1 BIOMASS@BOUNDARY & true               & TRUE              \\\\\n",
       "\t MNXR94668          & 1 MNXM3428@MNXD1   & 1 MNXM3428@MNXD2   & true               & TRUE              \\\\\n",
       "\t MNXR94669          & 1 MNXM3429@MNXD1   & 1 MNXM3429@MNXD2   & true               & TRUE              \\\\\n",
       "\t MNXR94670          & 1 MNXM5422@MNXD1   & 1 MNXM5422@MNXD2   & true               & TRUE              \\\\\n",
       "\t MNXR94672          & 1 MNXM237@MNXD1    & 1 MNXM237@MNXD2    & true               & TRUE              \\\\\n",
       "\\end{tabular}\n"
      ],
      "text/markdown": [
       "\n",
       "| MNX_ID | Left | Right | Balance | reversible |\n",
       "|---|---|---|---|---|\n",
       "| MNXR01             | 1 MNXM01@MNXD1     | 1 MNXM1@MNXD1      | true               | TRUE               |\n",
       "| MNXR94667          | 1 BIOMASS@MNXD1    | 1 BIOMASS@BOUNDARY | true               | TRUE               |\n",
       "| MNXR94668          | 1 MNXM3428@MNXD1   | 1 MNXM3428@MNXD2   | true               | TRUE               |\n",
       "| MNXR94669          | 1 MNXM3429@MNXD1   | 1 MNXM3429@MNXD2   | true               | TRUE               |\n",
       "| MNXR94670          | 1 MNXM5422@MNXD1   | 1 MNXM5422@MNXD2   | true               | TRUE               |\n",
       "| MNXR94672          | 1 MNXM237@MNXD1    | 1 MNXM237@MNXD2    | true               | TRUE               |\n",
       "\n"
      ],
      "text/plain": [
       "  MNX_ID    Left             Right              Balance reversible\n",
       "1 MNXR01    1 MNXM01@MNXD1   1 MNXM1@MNXD1      true    TRUE      \n",
       "2 MNXR94667 1 BIOMASS@MNXD1  1 BIOMASS@BOUNDARY true    TRUE      \n",
       "3 MNXR94668 1 MNXM3428@MNXD1 1 MNXM3428@MNXD2   true    TRUE      \n",
       "4 MNXR94669 1 MNXM3429@MNXD1 1 MNXM3429@MNXD2   true    TRUE      \n",
       "5 MNXR94670 1 MNXM5422@MNXD1 1 MNXM5422@MNXD2   true    TRUE      \n",
       "6 MNXR94672 1 MNXM237@MNXD1  1 MNXM237@MNXD2    true    TRUE      "
      ]
     },
     "metadata": {},
     "output_type": "display_data"
    }
   ],
   "source": [
    "react_tbl <- reactions %>% \n",
    "  select(MNX_ID, Equation, Balance) %>% \n",
    "  separate(Equation, c(\"Left\", \"Right\"), sep=\" = \") %>% \n",
    "  mutate(reversible = str_detect(Balance,\"true\")) \n",
    "\n",
    "react_tbl %>% head()"
   ]
  },
  {
   "cell_type": "code",
   "execution_count": 7,
   "metadata": {},
   "outputs": [
    {
     "data": {
      "text/html": [
       "<table>\n",
       "<thead><tr><th scope=col>from</th><th scope=col>to</th></tr></thead>\n",
       "<tbody>\n",
       "\t<tr><td>MNXM1    </td><td>MNXR01   </td></tr>\n",
       "\t<tr><td>BIOMASS  </td><td>MNXR94667</td></tr>\n",
       "\t<tr><td>MNXM3428 </td><td>MNXR94668</td></tr>\n",
       "\t<tr><td>MNXM3429 </td><td>MNXR94669</td></tr>\n",
       "\t<tr><td>MNXM5422 </td><td>MNXR94670</td></tr>\n",
       "\t<tr><td>MNXM237  </td><td>MNXR94672</td></tr>\n",
       "</tbody>\n",
       "</table>\n"
      ],
      "text/latex": [
       "\\begin{tabular}{r|ll}\n",
       " from & to\\\\\n",
       "\\hline\n",
       "\t MNXM1     & MNXR01   \\\\\n",
       "\t BIOMASS   & MNXR94667\\\\\n",
       "\t MNXM3428  & MNXR94668\\\\\n",
       "\t MNXM3429  & MNXR94669\\\\\n",
       "\t MNXM5422  & MNXR94670\\\\\n",
       "\t MNXM237   & MNXR94672\\\\\n",
       "\\end{tabular}\n"
      ],
      "text/markdown": [
       "\n",
       "| from | to |\n",
       "|---|---|\n",
       "| MNXM1     | MNXR01    |\n",
       "| BIOMASS   | MNXR94667 |\n",
       "| MNXM3428  | MNXR94668 |\n",
       "| MNXM3429  | MNXR94669 |\n",
       "| MNXM5422  | MNXR94670 |\n",
       "| MNXM237   | MNXR94672 |\n",
       "\n"
      ],
      "text/plain": [
       "  from     to       \n",
       "1 MNXM1    MNXR01   \n",
       "2 BIOMASS  MNXR94667\n",
       "3 MNXM3428 MNXR94668\n",
       "4 MNXM3429 MNXR94669\n",
       "5 MNXM5422 MNXR94670\n",
       "6 MNXM237  MNXR94672"
      ]
     },
     "metadata": {},
     "output_type": "display_data"
    }
   ],
   "source": [
    "react_tbl2 <- react_tbl %>% \n",
    "  filter(reversible == TRUE) %>% \n",
    "  dplyr::select(MNX_ID,Right2=Left,Left2=Right) %>% \n",
    "  dplyr::select(MNX_ID,Left=Left2, Right=Right2) %>% \n",
    "  bind_rows(react_tbl)\n",
    "\n",
    "react_tbl2 %>% \n",
    "  dplyr::select(-reversible) %>% \n",
    "  mutate(Left=strsplit(Left,\" \\\\+ \")) %>% \n",
    "  mutate(Right=strsplit(Right,\" \\\\+ \")) %>% \n",
    "  dplyr::select(MNX_ID,Left) %>% \n",
    "  unnest(Left) %>% \n",
    "  dplyr::select(from=Left, to=MNX_ID) %>% \n",
    "  separate(from, into = c(\"stoch\",\"from\"), extra=\"drop\") %>% \n",
    "  select(from,to) -> substrates\n",
    "\n",
    "substrates %>% head()"
   ]
  },
  {
   "cell_type": "code",
   "execution_count": 8,
   "metadata": {},
   "outputs": [
    {
     "data": {
      "text/html": [
       "<table>\n",
       "<thead><tr><th scope=col>from</th><th scope=col>to</th></tr></thead>\n",
       "<tbody>\n",
       "\t<tr><td>MNXR01   </td><td>MNXM01   </td></tr>\n",
       "\t<tr><td>MNXR94667</td><td>BIOMASS  </td></tr>\n",
       "\t<tr><td>MNXR94668</td><td>MNXM3428 </td></tr>\n",
       "\t<tr><td>MNXR94669</td><td>MNXM3429 </td></tr>\n",
       "\t<tr><td>MNXR94670</td><td>MNXM5422 </td></tr>\n",
       "\t<tr><td>MNXR94672</td><td>MNXM237  </td></tr>\n",
       "</tbody>\n",
       "</table>\n"
      ],
      "text/latex": [
       "\\begin{tabular}{r|ll}\n",
       " from & to\\\\\n",
       "\\hline\n",
       "\t MNXR01    & MNXM01   \\\\\n",
       "\t MNXR94667 & BIOMASS  \\\\\n",
       "\t MNXR94668 & MNXM3428 \\\\\n",
       "\t MNXR94669 & MNXM3429 \\\\\n",
       "\t MNXR94670 & MNXM5422 \\\\\n",
       "\t MNXR94672 & MNXM237  \\\\\n",
       "\\end{tabular}\n"
      ],
      "text/markdown": [
       "\n",
       "| from | to |\n",
       "|---|---|\n",
       "| MNXR01    | MNXM01    |\n",
       "| MNXR94667 | BIOMASS   |\n",
       "| MNXR94668 | MNXM3428  |\n",
       "| MNXR94669 | MNXM3429  |\n",
       "| MNXR94670 | MNXM5422  |\n",
       "| MNXR94672 | MNXM237   |\n",
       "\n"
      ],
      "text/plain": [
       "  from      to      \n",
       "1 MNXR01    MNXM01  \n",
       "2 MNXR94667 BIOMASS \n",
       "3 MNXR94668 MNXM3428\n",
       "4 MNXR94669 MNXM3429\n",
       "5 MNXR94670 MNXM5422\n",
       "6 MNXR94672 MNXM237 "
      ]
     },
     "metadata": {},
     "output_type": "display_data"
    }
   ],
   "source": [
    "react_tbl2 %>% \n",
    "  dplyr::select(-reversible) %>% \n",
    "  mutate(Left=strsplit(Left,\" \\\\+ \")) %>% \n",
    "  mutate(Right=strsplit(Right,\" \\\\+ \")) %>% \n",
    "  dplyr::select(MNX_ID,Right) %>% \n",
    "  unnest(Right) %>% \n",
    "  dplyr::select(from=MNX_ID, to=Right) %>% \n",
    "  separate(to, into = c(\"stoch\",\"to\"), extra=\"drop\") %>% \n",
    "  select(from,to)-> products\n",
    "\n",
    "products %>% head()"
   ]
  },
  {
   "cell_type": "code",
   "execution_count": 9,
   "metadata": {},
   "outputs": [
    {
     "data": {
      "text/plain": [
       "# A tbl_graph: 29293 nodes and 640464 edges\n",
       "#\n",
       "# A directed multigraph with 172 components\n",
       "#\n",
       "# Node Data: 29,293 x 1 (active)\n",
       "  name     \n",
       "  <chr>    \n",
       "1 MNXM1    \n",
       "2 MNXM01   \n",
       "3 MNXM17   \n",
       "4 MNXM8415 \n",
       "5 MNXM10958\n",
       "6 MNXM47   \n",
       "# … with 2.929e+04 more rows\n",
       "#\n",
       "# Edge Data: 640,464 x 3\n",
       "   from    to MNX_ID    \n",
       "  <int> <int> <chr>     \n",
       "1     1     2 MNXR01    \n",
       "2     2     1 MNXR01    \n",
       "3     1     5 MNXR100000\n",
       "# … with 6.405e+05 more rows"
      ]
     },
     "metadata": {},
     "output_type": "display_data"
    }
   ],
   "source": [
    "compound_network_fixed <- \n",
    "  inner_join(substrates,products,by=c(\"to\"=\"from\")) %>% \n",
    "  rename(MNX_ID=to) %>% \n",
    "  dplyr::select(from,to=to.y,MNX_ID)  %>% \n",
    "  filter(from != to) %>% \n",
    "  mutate(from=trimws(from),\n",
    "         to=trimws(to)) %>% arrange(MNX_ID) %>% \n",
    "  as_tbl_graph()\n",
    "\n",
    "compound_network_fixed"
   ]
  },
  {
   "cell_type": "markdown",
   "metadata": {},
   "source": [
    "# reactant pair similarity\n",
    "\n",
    "takes time, so only 100 lines are taken into account"
   ]
  },
  {
   "cell_type": "code",
   "execution_count": 11,
   "metadata": {},
   "outputs": [],
   "source": [
    "compound_network_fixed %>% \n",
    "  left_join(chem_prop, by=c(\"name\"=\"MNX_ID\")) %>% \n",
    "  left_join(valid_chem, by=c(\"name\"=\"MNX_ID\")) %>% \n",
    "  filter(!is.na(SMILES)) %>%    # TODO check if this is okay!\n",
    "  filter(Mass < 1400) %>%     # discard too large molecules\n",
    "  filter(validity==TRUE) %>%  # discard molecules which have invalid SDF\n",
    "  select(name,name.y,SMILES) %>% \n",
    "  activate(edges) %>% \n",
    "  mutate(fsmiles= .N()$SMILES[from],\n",
    "         tsmiles= .N()$SMILES[to],\n",
    "         fname= .N()$name[from],\n",
    "         tname= .N()$name[to]) %>% \n",
    "  as_tibble() %>% \n",
    "  head(100) -> test_df3"
   ]
  },
  {
   "cell_type": "markdown",
   "metadata": {},
   "source": [
    "\n",
    "tanimoto similarity function is defined as:"
   ]
  },
  {
   "cell_type": "code",
   "execution_count": 12,
   "metadata": {},
   "outputs": [],
   "source": [
    "smiles2tanimoto2 <- function(mol1,mol2){\n",
    "\n",
    "  sdfset <- smiles2sdf(c(cmp1=mol1,cmp2=mol2))\n",
    "  validity <- validSDF(sdfset)\n",
    "  if(!all(validity)) {return(-1.0)}\n",
    "  \n",
    "  apset <- sdf2ap(sdfset)\n",
    "  fpset <- desc2fp(x=apset, descnames=512, type=\"FPset\")\n",
    "  result <- fpSim(fpset[1], fpset[2], method=\"Tanimoto\")\n",
    "  result\n",
    "}"
   ]
  },
  {
   "cell_type": "markdown",
   "metadata": {},
   "source": [
    "`furrr` will work in parallel locally but probably won't benefit when run at Binder"
   ]
  },
  {
   "cell_type": "code",
   "execution_count": 14,
   "metadata": {},
   "outputs": [
    {
     "ename": "ERROR",
     "evalue": "Error: Evaluation error: could not find function \"smiles2sdf\".\n",
     "execution_count": 14,
     "output_type": "error",
     "traceback": [
      "Error: Evaluation error: could not find function \"smiles2sdf\".\nTraceback:\n",
      "1. test_df3 %>% mutate(tanim_sim = map2_dbl(fsmiles, tsmiles, ~smiles2tanimoto2(.x, \n .     .y))) %>% select(-contains(\"smiles\"))",
      "2. withVisible(eval(quote(`_fseq`(`_lhs`)), env, env))",
      "3. eval(quote(`_fseq`(`_lhs`)), env, env)",
      "4. eval(quote(`_fseq`(`_lhs`)), env, env)",
      "5. `_fseq`(`_lhs`)",
      "6. freduce(value, `_function_list`)",
      "7. function_list[[i]](value)",
      "8. mutate(., tanim_sim = map2_dbl(fsmiles, tsmiles, ~smiles2tanimoto2(.x, \n .     .y)))",
      "9. mutate.tbl_df(., tanim_sim = map2_dbl(fsmiles, tsmiles, ~smiles2tanimoto2(.x, \n .     .y)))",
      "10. mutate_impl(.data, dots, caller_env())"
     ]
    }
   ],
   "source": [
    "#library(furrr)\n",
    "#future::plan(future::multicore) \n",
    "\n",
    "test_df3 %>% \n",
    "  mutate(tanim_sim = map2_dbl(fsmiles,tsmiles,~ smiles2tanimoto2(.x,.y))) %>% \n",
    "  select(-contains(\"smiles\"))"
   ]
  },
  {
   "cell_type": "code",
   "execution_count": null,
   "metadata": {},
   "outputs": [],
   "source": []
  }
 ],
 "metadata": {
  "kernelspec": {
   "display_name": "R",
   "language": "R",
   "name": "ir"
  },
  "language_info": {
   "codemirror_mode": "r",
   "file_extension": ".r",
   "mimetype": "text/x-r-source",
   "name": "R",
   "pygments_lexer": "r",
   "version": "3.4.4"
  }
 },
 "nbformat": 4,
 "nbformat_minor": 2
}

